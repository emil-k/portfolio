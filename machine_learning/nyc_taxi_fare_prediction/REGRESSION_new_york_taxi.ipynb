{
 "cells": [
  {
   "cell_type": "markdown",
   "metadata": {},
   "source": [
    "### https://www.kaggle.com/c/new-york-city-taxi-fare-prediction/overview"
   ]
  },
  {
   "cell_type": "code",
   "execution_count": 1,
   "metadata": {},
   "outputs": [],
   "source": [
    "from geopy.distance import distance\n",
    "import pandas as pd\n",
    "import numpy as np\n",
    "import seaborn as sns\n",
    "import matplotlib.pyplot as plt\n",
    "pd.options.mode.chained_assignment = None\n",
    "\n",
    "import eli5\n",
    "from sklearn.linear_model import LinearRegression, Lasso\n",
    "import re\n",
    "\n",
    "from sklearn.model_selection import train_test_split\n",
    "from sklearn.preprocessing import StandardScaler\n",
    "\n",
    "from sklearn.neighbors import KNeighborsRegressor\n",
    "from sklearn.metrics import mean_squared_error\n",
    "from sklearn.ensemble import RandomForestRegressor\n",
    "from sklearn import linear_model\n",
    "from sklearn.model_selection import GridSearchCV, RandomizedSearchCV\n",
    "from sklearn.ensemble import AdaBoostRegressor\n",
    "from scipy.stats import skew\n",
    "from sklearn.metrics import mean_squared_error\n",
    "from sklearn.tree import DecisionTreeRegressor\n",
    "from pandas.core.common import flatten\n",
    "from sklearn import linear_model\n",
    "from sklearn.svm import SVR\n",
    "from math import e\n",
    "import ast\n",
    "from collections import Counter\n",
    "from scipy.stats import pearsonr\n",
    "\n",
    "import math\n",
    "pd.set_option('display.float_format', lambda x: '%.2f' % x)\n",
    "pd.options.mode.chained_assignment = None"
   ]
  },
  {
   "cell_type": "code",
   "execution_count": 253,
   "metadata": {},
   "outputs": [],
   "source": [
    "# read in only 10% of data due to RAM limitations\n",
    "n = 100\n",
    "train = pd.read_csv('/home/scott/Downloads/new-york-city-taxi-fare-prediction/train.csv', \n",
    "                    header=0, \n",
    "                    skiprows=lambda i: i % n != 0,\n",
    "                   parse_dates=[\"pickup_datetime\"])\n",
    "train['dataset'] = 'train'\n",
    "\n",
    "test = pd.read_csv('/home/scott/Downloads/new-york-city-taxi-fare-prediction/test.csv', \n",
    "                   header=0,\n",
    "                  parse_dates=[\"pickup_datetime\"])\n",
    "\n",
    "test['dataset'] = 'test'\n",
    "test['fare_amount'] = 999\n",
    "\n",
    "#df = train.append(test)\n",
    "#df.reset_index(inplace=True, drop=True)"
   ]
  },
  {
   "cell_type": "code",
   "execution_count": 254,
   "metadata": {},
   "outputs": [
    {
     "name": "stdout",
     "output_type": "stream",
     "text": [
      "<class 'pandas.core.frame.DataFrame'>\n",
      "RangeIndex: 554238 entries, 0 to 554237\n",
      "Data columns (total 9 columns):\n",
      "key                  554238 non-null object\n",
      "fare_amount          554238 non-null float64\n",
      "pickup_datetime      554238 non-null datetime64[ns]\n",
      "pickup_longitude     554238 non-null float64\n",
      "pickup_latitude      554238 non-null float64\n",
      "dropoff_longitude    554231 non-null float64\n",
      "dropoff_latitude     554231 non-null float64\n",
      "passenger_count      554238 non-null int64\n",
      "dataset              554238 non-null object\n",
      "dtypes: datetime64[ns](1), float64(5), int64(1), object(2)\n",
      "memory usage: 107.1 MB\n"
     ]
    }
   ],
   "source": [
    "train.info(memory_usage='deep')"
   ]
  },
  {
   "cell_type": "code",
   "execution_count": 255,
   "metadata": {},
   "outputs": [
    {
     "data": {
      "text/plain": [
       "Index                0.00\n",
       "key                 46.93\n",
       "fare_amount          4.43\n",
       "pickup_datetime      4.43\n",
       "pickup_longitude     4.43\n",
       "pickup_latitude      4.43\n",
       "dropoff_longitude    4.43\n",
       "dropoff_latitude     4.43\n",
       "passenger_count      4.43\n",
       "dataset             34.36\n",
       "dtype: float64"
      ]
     },
     "execution_count": 255,
     "metadata": {},
     "output_type": "execute_result"
    }
   ],
   "source": [
    "train.memory_usage(deep=True) * 1e-6"
   ]
  },
  {
   "cell_type": "code",
   "execution_count": null,
   "metadata": {},
   "outputs": [],
   "source": []
  },
  {
   "cell_type": "markdown",
   "metadata": {},
   "source": [
    "RAM will be an issue, so i have to extract info as integers from the datetime features and then drop them. Also strings (object) are super expensive so I'll have to convert them to other datatypes."
   ]
  },
  {
   "cell_type": "code",
   "execution_count": 256,
   "metadata": {},
   "outputs": [
    {
     "data": {
      "text/html": [
       "<div>\n",
       "<style scoped>\n",
       "    .dataframe tbody tr th:only-of-type {\n",
       "        vertical-align: middle;\n",
       "    }\n",
       "\n",
       "    .dataframe tbody tr th {\n",
       "        vertical-align: top;\n",
       "    }\n",
       "\n",
       "    .dataframe thead th {\n",
       "        text-align: right;\n",
       "    }\n",
       "</style>\n",
       "<table border=\"1\" class=\"dataframe\">\n",
       "  <thead>\n",
       "    <tr style=\"text-align: right;\">\n",
       "      <th></th>\n",
       "      <th>key</th>\n",
       "      <th>fare_amount</th>\n",
       "      <th>pickup_datetime</th>\n",
       "      <th>pickup_longitude</th>\n",
       "      <th>pickup_latitude</th>\n",
       "      <th>dropoff_longitude</th>\n",
       "      <th>dropoff_latitude</th>\n",
       "      <th>passenger_count</th>\n",
       "      <th>dataset</th>\n",
       "    </tr>\n",
       "  </thead>\n",
       "  <tbody>\n",
       "    <tr>\n",
       "      <th>0</th>\n",
       "      <td>2011-06-09 00:53:00.00000066</td>\n",
       "      <td>5.70</td>\n",
       "      <td>2011-06-09 00:53:00</td>\n",
       "      <td>-73.98</td>\n",
       "      <td>40.72</td>\n",
       "      <td>-73.99</td>\n",
       "      <td>40.73</td>\n",
       "      <td>3</td>\n",
       "      <td>train</td>\n",
       "    </tr>\n",
       "    <tr>\n",
       "      <th>1</th>\n",
       "      <td>2013-01-05 21:36:00.000000198</td>\n",
       "      <td>5.50</td>\n",
       "      <td>2013-01-05 21:36:00</td>\n",
       "      <td>-73.99</td>\n",
       "      <td>40.74</td>\n",
       "      <td>-73.98</td>\n",
       "      <td>40.74</td>\n",
       "      <td>1</td>\n",
       "      <td>train</td>\n",
       "    </tr>\n",
       "    <tr>\n",
       "      <th>2</th>\n",
       "      <td>2015-04-18 08:29:08.0000002</td>\n",
       "      <td>11.50</td>\n",
       "      <td>2015-04-18 08:29:08</td>\n",
       "      <td>-73.96</td>\n",
       "      <td>40.77</td>\n",
       "      <td>-73.98</td>\n",
       "      <td>40.75</td>\n",
       "      <td>1</td>\n",
       "      <td>train</td>\n",
       "    </tr>\n",
       "    <tr>\n",
       "      <th>3</th>\n",
       "      <td>2009-09-02 05:18:10.0000001</td>\n",
       "      <td>25.70</td>\n",
       "      <td>2009-09-02 05:18:10</td>\n",
       "      <td>-73.99</td>\n",
       "      <td>40.76</td>\n",
       "      <td>-73.86</td>\n",
       "      <td>40.77</td>\n",
       "      <td>1</td>\n",
       "      <td>train</td>\n",
       "    </tr>\n",
       "    <tr>\n",
       "      <th>4</th>\n",
       "      <td>2012-11-30 11:02:00.000000111</td>\n",
       "      <td>38.80</td>\n",
       "      <td>2012-11-30 11:02:00</td>\n",
       "      <td>-73.97</td>\n",
       "      <td>40.76</td>\n",
       "      <td>-73.86</td>\n",
       "      <td>40.77</td>\n",
       "      <td>1</td>\n",
       "      <td>train</td>\n",
       "    </tr>\n",
       "  </tbody>\n",
       "</table>\n",
       "</div>"
      ],
      "text/plain": [
       "                             key  fare_amount     pickup_datetime  \\\n",
       "0   2011-06-09 00:53:00.00000066         5.70 2011-06-09 00:53:00   \n",
       "1  2013-01-05 21:36:00.000000198         5.50 2013-01-05 21:36:00   \n",
       "2    2015-04-18 08:29:08.0000002        11.50 2015-04-18 08:29:08   \n",
       "3    2009-09-02 05:18:10.0000001        25.70 2009-09-02 05:18:10   \n",
       "4  2012-11-30 11:02:00.000000111        38.80 2012-11-30 11:02:00   \n",
       "\n",
       "   pickup_longitude  pickup_latitude  dropoff_longitude  dropoff_latitude  \\\n",
       "0            -73.98            40.72             -73.99             40.73   \n",
       "1            -73.99            40.74             -73.98             40.74   \n",
       "2            -73.96            40.77             -73.98             40.75   \n",
       "3            -73.99            40.76             -73.86             40.77   \n",
       "4            -73.97            40.76             -73.86             40.77   \n",
       "\n",
       "   passenger_count dataset  \n",
       "0                3   train  \n",
       "1                1   train  \n",
       "2                1   train  \n",
       "3                1   train  \n",
       "4                1   train  "
      ]
     },
     "execution_count": 256,
     "metadata": {},
     "output_type": "execute_result"
    }
   ],
   "source": [
    "train.head()"
   ]
  },
  {
   "cell_type": "markdown",
   "metadata": {},
   "source": [
    "# Data cleaning"
   ]
  },
  {
   "cell_type": "code",
   "execution_count": 257,
   "metadata": {},
   "outputs": [],
   "source": [
    "train.dropna(inplace=True)"
   ]
  },
  {
   "cell_type": "code",
   "execution_count": 258,
   "metadata": {},
   "outputs": [],
   "source": [
    "#train.pickup_datetime = pd.to_datetime(train.pickup_datetime)\n",
    "#test.pickup_datetime = pd.to_datetime(test.pickup_datetime)"
   ]
  },
  {
   "cell_type": "code",
   "execution_count": 259,
   "metadata": {},
   "outputs": [
    {
     "data": {
      "text/plain": [
       "Index                4.43\n",
       "key                 46.93\n",
       "fare_amount          4.43\n",
       "pickup_datetime      4.43\n",
       "pickup_longitude     4.43\n",
       "pickup_latitude      4.43\n",
       "dropoff_longitude    4.43\n",
       "dropoff_latitude     4.43\n",
       "passenger_count      4.43\n",
       "dataset             34.36\n",
       "dtype: float64"
      ]
     },
     "execution_count": 259,
     "metadata": {},
     "output_type": "execute_result"
    }
   ],
   "source": [
    "train.memory_usage(deep=True) * 1e-6"
   ]
  },
  {
   "cell_type": "markdown",
   "metadata": {},
   "source": [
    "Converting string to datetime freed 400 MB of RAM!"
   ]
  },
  {
   "cell_type": "code",
   "execution_count": 260,
   "metadata": {},
   "outputs": [],
   "source": [
    "train.drop('key', axis=1, inplace=True)"
   ]
  },
  {
   "cell_type": "code",
   "execution_count": 261,
   "metadata": {},
   "outputs": [
    {
     "name": "stdout",
     "output_type": "stream",
     "text": [
      "<class 'pandas.core.frame.DataFrame'>\n",
      "Int64Index: 554231 entries, 0 to 554237\n",
      "Data columns (total 8 columns):\n",
      "fare_amount          554231 non-null float64\n",
      "pickup_datetime      554231 non-null datetime64[ns]\n",
      "pickup_longitude     554231 non-null float64\n",
      "pickup_latitude      554231 non-null float64\n",
      "dropoff_longitude    554231 non-null float64\n",
      "dropoff_latitude     554231 non-null float64\n",
      "passenger_count      554231 non-null int64\n",
      "dataset              554231 non-null object\n",
      "dtypes: datetime64[ns](1), float64(5), int64(1), object(1)\n",
      "memory usage: 66.6 MB\n"
     ]
    }
   ],
   "source": [
    "train.info(memory_usage='deep')"
   ]
  },
  {
   "cell_type": "code",
   "execution_count": 262,
   "metadata": {},
   "outputs": [
    {
     "data": {
      "text/html": [
       "<div>\n",
       "<style scoped>\n",
       "    .dataframe tbody tr th:only-of-type {\n",
       "        vertical-align: middle;\n",
       "    }\n",
       "\n",
       "    .dataframe tbody tr th {\n",
       "        vertical-align: top;\n",
       "    }\n",
       "\n",
       "    .dataframe thead th {\n",
       "        text-align: right;\n",
       "    }\n",
       "</style>\n",
       "<table border=\"1\" class=\"dataframe\">\n",
       "  <thead>\n",
       "    <tr style=\"text-align: right;\">\n",
       "      <th></th>\n",
       "      <th>fare_amount</th>\n",
       "      <th>pickup_datetime</th>\n",
       "      <th>pickup_longitude</th>\n",
       "      <th>pickup_latitude</th>\n",
       "      <th>dropoff_longitude</th>\n",
       "      <th>dropoff_latitude</th>\n",
       "      <th>passenger_count</th>\n",
       "      <th>dataset</th>\n",
       "    </tr>\n",
       "  </thead>\n",
       "  <tbody>\n",
       "    <tr>\n",
       "      <th>0</th>\n",
       "      <td>5.70</td>\n",
       "      <td>2011-06-09 00:53:00</td>\n",
       "      <td>-73.98</td>\n",
       "      <td>40.72</td>\n",
       "      <td>-73.99</td>\n",
       "      <td>40.73</td>\n",
       "      <td>3</td>\n",
       "      <td>train</td>\n",
       "    </tr>\n",
       "    <tr>\n",
       "      <th>1</th>\n",
       "      <td>5.50</td>\n",
       "      <td>2013-01-05 21:36:00</td>\n",
       "      <td>-73.99</td>\n",
       "      <td>40.74</td>\n",
       "      <td>-73.98</td>\n",
       "      <td>40.74</td>\n",
       "      <td>1</td>\n",
       "      <td>train</td>\n",
       "    </tr>\n",
       "    <tr>\n",
       "      <th>2</th>\n",
       "      <td>11.50</td>\n",
       "      <td>2015-04-18 08:29:08</td>\n",
       "      <td>-73.96</td>\n",
       "      <td>40.77</td>\n",
       "      <td>-73.98</td>\n",
       "      <td>40.75</td>\n",
       "      <td>1</td>\n",
       "      <td>train</td>\n",
       "    </tr>\n",
       "    <tr>\n",
       "      <th>3</th>\n",
       "      <td>25.70</td>\n",
       "      <td>2009-09-02 05:18:10</td>\n",
       "      <td>-73.99</td>\n",
       "      <td>40.76</td>\n",
       "      <td>-73.86</td>\n",
       "      <td>40.77</td>\n",
       "      <td>1</td>\n",
       "      <td>train</td>\n",
       "    </tr>\n",
       "    <tr>\n",
       "      <th>4</th>\n",
       "      <td>38.80</td>\n",
       "      <td>2012-11-30 11:02:00</td>\n",
       "      <td>-73.97</td>\n",
       "      <td>40.76</td>\n",
       "      <td>-73.86</td>\n",
       "      <td>40.77</td>\n",
       "      <td>1</td>\n",
       "      <td>train</td>\n",
       "    </tr>\n",
       "  </tbody>\n",
       "</table>\n",
       "</div>"
      ],
      "text/plain": [
       "   fare_amount     pickup_datetime  pickup_longitude  pickup_latitude  \\\n",
       "0         5.70 2011-06-09 00:53:00            -73.98            40.72   \n",
       "1         5.50 2013-01-05 21:36:00            -73.99            40.74   \n",
       "2        11.50 2015-04-18 08:29:08            -73.96            40.77   \n",
       "3        25.70 2009-09-02 05:18:10            -73.99            40.76   \n",
       "4        38.80 2012-11-30 11:02:00            -73.97            40.76   \n",
       "\n",
       "   dropoff_longitude  dropoff_latitude  passenger_count dataset  \n",
       "0             -73.99             40.73                3   train  \n",
       "1             -73.98             40.74                1   train  \n",
       "2             -73.98             40.75                1   train  \n",
       "3             -73.86             40.77                1   train  \n",
       "4             -73.86             40.77                1   train  "
      ]
     },
     "execution_count": 262,
     "metadata": {},
     "output_type": "execute_result"
    }
   ],
   "source": [
    "train.head()"
   ]
  },
  {
   "cell_type": "code",
   "execution_count": 263,
   "metadata": {},
   "outputs": [],
   "source": [
    "for df in [train, test]:\n",
    "    df['hour'] = df.pickup_datetime.apply(lambda x: x.hour)\n",
    "    df['year'] = df.pickup_datetime.apply(lambda x: x.year)\n",
    "    df['weekday'] = df.pickup_datetime.apply(lambda x: x.weekday())\n",
    "    df['month'] = df.pickup_datetime.apply(lambda x: x.month)\n",
    "    df.drop('pickup_datetime', axis=1, inplace=True)"
   ]
  },
  {
   "cell_type": "code",
   "execution_count": 264,
   "metadata": {},
   "outputs": [
    {
     "data": {
      "text/plain": [
       "<matplotlib.axes._subplots.AxesSubplot at 0x7f8174795828>"
      ]
     },
     "execution_count": 264,
     "metadata": {},
     "output_type": "execute_result"
    },
    {
     "data": {
      "image/png": "[encoded data removed]",
      "text/plain": [
       "<Figure size 432x288 with 1 Axes>"
      ]
     },
     "metadata": {
      "needs_background": "light"
     },
     "output_type": "display_data"
    }
   ],
   "source": [
    "sns.barplot(x=train.hour, y=train.fare_amount)"
   ]
  },
  {
   "cell_type": "code",
   "execution_count": 265,
   "metadata": {},
   "outputs": [
    {
     "data": {
      "text/plain": [
       "<matplotlib.axes._subplots.AxesSubplot at 0x7f8173d3f6a0>"
      ]
     },
     "execution_count": 265,
     "metadata": {},
     "output_type": "execute_result"
    },
    {
     "data": {
      "image/png": "[encoded data removed]",
      "text/plain": [
       "<Figure size 432x288 with 1 Axes>"
      ]
     },
     "metadata": {
      "needs_background": "light"
     },
     "output_type": "display_data"
    }
   ],
   "source": [
    "sns.distplot(train.hour, bins=24)"
   ]
  },
  {
   "cell_type": "code",
   "execution_count": 266,
   "metadata": {},
   "outputs": [
    {
     "data": {
      "image/png": "[encoded data removed]",
      "text/plain": [
       "<Figure size 576x360 with 1 Axes>"
      ]
     },
     "metadata": {
      "needs_background": "light"
     },
     "output_type": "display_data"
    }
   ],
   "source": [
    "c = sns.catplot(x='hour', y='fare_amount', data=train, kind='bar')\n",
    "c.fig.set_size_inches(8, 5)"
   ]
  },
  {
   "cell_type": "markdown",
   "metadata": {},
   "source": [
    "There is a spike in mean fare amount between 4 and 6 at night. It makes sense looking at the histogram, less supply, same (or higher) demand."
   ]
  },
  {
   "cell_type": "code",
   "execution_count": 267,
   "metadata": {},
   "outputs": [
    {
     "data": {
      "text/plain": [
       "<Figure size 432x288 with 0 Axes>"
      ]
     },
     "metadata": {},
     "output_type": "display_data"
    },
    {
     "data": {
      "image/png": "[encoded data removed]",
      "text/plain": [
       "<Figure size 576x360 with 1 Axes>"
      ]
     },
     "metadata": {
      "needs_background": "light"
     },
     "output_type": "display_data"
    }
   ],
   "source": [
    "plt.figure()\n",
    "c = sns.catplot(x='weekday', y='fare_amount', data=train, kind='bar')\n",
    "c.fig.set_size_inches(8, 5)"
   ]
  },
  {
   "cell_type": "markdown",
   "metadata": {},
   "source": [
    "NYC Coordinates are roughly 40.7128° N, 74.0060° W. Anything else will be considered noise."
   ]
  },
  {
   "cell_type": "code",
   "execution_count": 268,
   "metadata": {},
   "outputs": [
    {
     "data": {
      "text/plain": [
       "-73    470964\n",
       "-74     72189\n",
       " 0      10708\n",
       " 40       283\n",
       "-75        19\n",
       "-7         14\n",
       "-1         10\n",
       "-72         9\n",
       "-76         3\n",
       "-71         3\n",
       "Name: dropoff_longitude, dtype: int64"
      ]
     },
     "execution_count": 268,
     "metadata": {},
     "output_type": "execute_result"
    }
   ],
   "source": [
    "train.dropoff_longitude.apply(lambda x: int(x)).value_counts()[:10]"
   ]
  },
  {
   "cell_type": "code",
   "execution_count": 269,
   "metadata": {},
   "outputs": [
    {
     "data": {
      "text/plain": [
       " 40    542943\n",
       " 0      10675\n",
       "-73       251\n",
       " 41       230\n",
       " 39        74\n",
       "-74        32\n",
       " 42         3\n",
       " 4          3\n",
       " 36         2\n",
       " 5          1\n",
       "Name: dropoff_latitude, dtype: int64"
      ]
     },
     "execution_count": 269,
     "metadata": {},
     "output_type": "execute_result"
    }
   ],
   "source": [
    "train.dropoff_latitude.apply(lambda x: int(x)).value_counts()[:10]"
   ]
  },
  {
   "cell_type": "code",
   "execution_count": 270,
   "metadata": {},
   "outputs": [
    {
     "data": {
      "text/plain": [
       "-73    470208\n",
       "-74     72933\n",
       " 0      10708\n",
       " 40       283\n",
       "-75        28\n",
       "-7         17\n",
       "-72        10\n",
       "-1          4\n",
       "-76         4\n",
       "-2          2\n",
       "Name: pickup_longitude, dtype: int64"
      ]
     },
     "execution_count": 270,
     "metadata": {},
     "output_type": "execute_result"
    }
   ],
   "source": [
    "train.pickup_longitude.apply(lambda x: int(x)).value_counts()[:10]"
   ]
  },
  {
   "cell_type": "code",
   "execution_count": 271,
   "metadata": {},
   "outputs": [
    {
     "data": {
      "text/plain": [
       " 40    542957\n",
       " 0      10670\n",
       "-73       244\n",
       " 41       241\n",
       " 39        44\n",
       "-74        39\n",
       " 4          4\n",
       " 42         3\n",
       " 35         2\n",
       " 37         2\n",
       "Name: pickup_latitude, dtype: int64"
      ]
     },
     "execution_count": 271,
     "metadata": {},
     "output_type": "execute_result"
    }
   ],
   "source": [
    "train.pickup_latitude.apply(lambda x: int(x)).value_counts()[:10]"
   ]
  },
  {
   "cell_type": "code",
   "execution_count": 272,
   "metadata": {},
   "outputs": [],
   "source": [
    "mask1 = train.dropoff_longitude.apply(int).isin([-73, -74, -75])\n",
    "mask2 = train.dropoff_latitude.apply(int).isin([40, 41])\n",
    "\n",
    "mask3 = train.pickup_longitude.apply(int).isin([-73, -74, -75])\n",
    "mask4 = train.pickup_latitude.apply(int).isin([40, 41])\n",
    "\n",
    "train = train[(mask1 & mask2) & (mask3 & mask4) ]"
   ]
  },
  {
   "cell_type": "code",
   "execution_count": null,
   "metadata": {},
   "outputs": [],
   "source": []
  },
  {
   "cell_type": "code",
   "execution_count": 273,
   "metadata": {},
   "outputs": [],
   "source": [
    "# Much faster using linear algebra\n",
    "\n",
    "for df in [train, test]:\n",
    "    \n",
    "    lat_matrix = np.column_stack((df.pickup_latitude, df.pickup_longitude))\n",
    "    lon_matrix = np.column_stack((df.dropoff_latitude, df.dropoff_longitude))\n",
    "    \n",
    "    df['dist_manhattan'] = np.absolute(lat_matrix - lon_matrix).sum(axis=1)\n",
    "    \n",
    "    df['dist_euclidean'] = df.apply(lambda row: distance( (row.pickup_latitude, row.pickup_longitude), \n",
    "                                           (row.dropoff_latitude, row.dropoff_longitude)).km, \n",
    "                                            axis=1)\n",
    "\n",
    "    #df.drop(['dropoff_longitude', 'dropoff_latitude', 'pickup_longitude', 'pickup_latitude' ], axis=1, inplace=True)"
   ]
  },
  {
   "cell_type": "code",
   "execution_count": 274,
   "metadata": {},
   "outputs": [],
   "source": [
    "train.to_pickle('train_taxi_pre.pkl')\n",
    "test.to_pickle('test_taxi_pre.pkl')"
   ]
  },
  {
   "cell_type": "code",
   "execution_count": 275,
   "metadata": {},
   "outputs": [],
   "source": [
    "#train = pd.read_pickle('train_taxi_pre.pkl')\n",
    "#test = pd.read_pickle('test_taxi_pre.pkl')"
   ]
  },
  {
   "cell_type": "code",
   "execution_count": 276,
   "metadata": {},
   "outputs": [],
   "source": [
    "train = train[ (train.dist_manhattan > 0) & (train.fare_amount > 0)]"
   ]
  },
  {
   "cell_type": "code",
   "execution_count": 277,
   "metadata": {},
   "outputs": [
    {
     "data": {
      "image/png": "[encoded data removed]",
      "text/plain": [
       "<Figure size 432x288 with 1 Axes>"
      ]
     },
     "metadata": {
      "needs_background": "light"
     },
     "output_type": "display_data"
    }
   ],
   "source": [
    "b = sns.boxplot(train.dist_euclidean.tolist())"
   ]
  },
  {
   "cell_type": "code",
   "execution_count": 278,
   "metadata": {},
   "outputs": [
    {
     "data": {
      "image/png": "[encoded data removed]",
      "text/plain": [
       "<Figure size 432x288 with 1 Axes>"
      ]
     },
     "metadata": {
      "needs_background": "light"
     },
     "output_type": "display_data"
    }
   ],
   "source": [
    "b = sns.boxplot(test.dist_euclidean.tolist())"
   ]
  },
  {
   "cell_type": "markdown",
   "metadata": {},
   "source": [
    "We can see that an overwhelming majority of rides are very short, but we also have a lot of problematic outliers."
   ]
  },
  {
   "cell_type": "code",
   "execution_count": 279,
   "metadata": {},
   "outputs": [
    {
     "data": {
      "text/plain": [
       "<matplotlib.axes._subplots.AxesSubplot at 0x7f8177783160>"
      ]
     },
     "execution_count": 279,
     "metadata": {},
     "output_type": "execute_result"
    },
    {
     "data": {
      "image/png": "[encoded data removed]",
      "text/plain": [
       "<Figure size 648x288 with 1 Axes>"
      ]
     },
     "metadata": {
      "needs_background": "light"
     },
     "output_type": "display_data"
    }
   ],
   "source": [
    "plt.figure(figsize=(9, 4))\n",
    "sns.distplot(train.fare_amount, bins=80, kde=False)"
   ]
  },
  {
   "cell_type": "code",
   "execution_count": 280,
   "metadata": {},
   "outputs": [],
   "source": [
    "train['dist_bins'] = pd.cut(train.dist_euclidean, bins=60, labels=range(60))\n",
    "test['dist_bins'] = pd.cut(test.dist_euclidean, bins=60, labels=range(60))"
   ]
  },
  {
   "cell_type": "code",
   "execution_count": 281,
   "metadata": {},
   "outputs": [
    {
     "data": {
      "text/plain": [
       "<Figure size 432x288 with 0 Axes>"
      ]
     },
     "metadata": {},
     "output_type": "display_data"
    },
    {
     "data": {
      "image/png": "[encoded data removed]",
      "text/plain": [
       "<Figure size 1008x360 with 1 Axes>"
      ]
     },
     "metadata": {
      "needs_background": "light"
     },
     "output_type": "display_data"
    }
   ],
   "source": [
    "plt.figure()\n",
    "c = sns.catplot(x='dist_bins', y='fare_amount', data=train, kind='bar')\n",
    "c.fig.set_size_inches(14, 5)"
   ]
  },
  {
   "cell_type": "markdown",
   "metadata": {},
   "source": [
    "We see that the dist-price relationship is perfectly linear, however, something weird happens with cohorts with long distances. You also see how the error bars are getting bigger. A linear model simply won't work if we use the data as is. The decision to make is whether we drop these outliers. I don't think we should, as they give valuable insights into those long distance rides, and there are algorithms that can handle it well (non linear ones, like decision trees or KNN)."
   ]
  },
  {
   "cell_type": "code",
   "execution_count": 282,
   "metadata": {},
   "outputs": [
    {
     "data": {
      "text/plain": [
       "0     266056\n",
       "1     152047\n",
       "2      56307\n",
       "3      23502\n",
       "4      16214\n",
       "5       6022\n",
       "6       3939\n",
       "7       2394\n",
       "8       2352\n",
       "9       5929\n",
       "10      1377\n",
       "11       186\n",
       "12       109\n",
       "13        39\n",
       "14        24\n",
       "15        23\n",
       "16        21\n",
       "17        11\n",
       "18        10\n",
       "19         9\n",
       "20         5\n",
       "21         5\n",
       "22         3\n",
       "23         2\n",
       "24         1\n",
       "25         2\n",
       "26         1\n",
       "27         2\n",
       "28         1\n",
       "29         1\n",
       "30         0\n",
       "31         1\n",
       "32         2\n",
       "33         1\n",
       "34         0\n",
       "35         0\n",
       "36         1\n",
       "37         1\n",
       "38         0\n",
       "39         0\n",
       "40         1\n",
       "41         5\n",
       "42         2\n",
       "43         6\n",
       "44        10\n",
       "45        27\n",
       "46        10\n",
       "47         4\n",
       "48         4\n",
       "49         3\n",
       "50         0\n",
       "51         0\n",
       "52         3\n",
       "53         8\n",
       "54         1\n",
       "55         7\n",
       "56         5\n",
       "57         1\n",
       "58         0\n",
       "59         1\n",
       "Name: dist_bins, dtype: int64"
      ]
     },
     "execution_count": 282,
     "metadata": {},
     "output_type": "execute_result"
    }
   ],
   "source": [
    "train.dist_bins.value_counts().sort_index()"
   ]
  },
  {
   "cell_type": "markdown",
   "metadata": {},
   "source": [
    "There is a little spike around the values 44-46 which doesn't look random. However, given how few values these are, I don't think it's wise to invest time in investigating it at this moment."
   ]
  },
  {
   "cell_type": "code",
   "execution_count": 283,
   "metadata": {},
   "outputs": [
    {
     "data": {
      "text/plain": [
       "0     3570\n",
       "1     3159\n",
       "2     1352\n",
       "3      686\n",
       "4      355\n",
       "5      279\n",
       "6      139\n",
       "7       75\n",
       "8       53\n",
       "9       36\n",
       "10      36\n",
       "11      48\n",
       "12      96\n",
       "13      18\n",
       "14       1\n",
       "15       2\n",
       "16       4\n",
       "17       1\n",
       "18       0\n",
       "19       0\n",
       "20       1\n",
       "21       0\n",
       "22       0\n",
       "23       0\n",
       "24       0\n",
       "25       0\n",
       "26       0\n",
       "27       0\n",
       "28       0\n",
       "29       0\n",
       "30       0\n",
       "31       0\n",
       "32       0\n",
       "33       0\n",
       "34       0\n",
       "35       0\n",
       "36       0\n",
       "37       0\n",
       "38       0\n",
       "39       0\n",
       "40       0\n",
       "41       0\n",
       "42       0\n",
       "43       0\n",
       "44       0\n",
       "45       0\n",
       "46       0\n",
       "47       0\n",
       "48       0\n",
       "49       0\n",
       "50       0\n",
       "51       0\n",
       "52       0\n",
       "53       0\n",
       "54       0\n",
       "55       0\n",
       "56       0\n",
       "57       0\n",
       "58       2\n",
       "59       1\n",
       "Name: dist_bins, dtype: int64"
      ]
     },
     "execution_count": 283,
     "metadata": {},
     "output_type": "execute_result"
    }
   ],
   "source": [
    "test.dist_bins.value_counts().sort_index()"
   ]
  },
  {
   "cell_type": "markdown",
   "metadata": {},
   "source": [
    "Dropping the outlier values."
   ]
  },
  {
   "cell_type": "code",
   "execution_count": 284,
   "metadata": {},
   "outputs": [
    {
     "data": {
      "text/plain": [
       "fare_amount          1.00\n",
       "pickup_longitude     0.40\n",
       "pickup_latitude     -0.20\n",
       "dropoff_longitude    0.30\n",
       "dropoff_latitude    -0.16\n",
       "passenger_count      0.02\n",
       "hour                -0.02\n",
       "year                 0.12\n",
       "weekday              0.00\n",
       "month                0.02\n",
       "dist_manhattan       0.82\n",
       "dist_euclidean       0.82\n",
       "Name: fare_amount, dtype: float64"
      ]
     },
     "execution_count": 284,
     "metadata": {},
     "output_type": "execute_result"
    }
   ],
   "source": [
    "train.corr()['fare_amount']"
   ]
  },
  {
   "cell_type": "code",
   "execution_count": 285,
   "metadata": {},
   "outputs": [
    {
     "data": {
      "text/plain": [
       "fare_amount          1.00\n",
       "pickup_longitude     0.40\n",
       "pickup_latitude     -0.20\n",
       "dropoff_longitude    0.30\n",
       "dropoff_latitude    -0.16\n",
       "passenger_count      0.02\n",
       "hour                -0.02\n",
       "year                 0.12\n",
       "weekday              0.00\n",
       "month                0.02\n",
       "dist_manhattan       0.82\n",
       "dist_euclidean       0.82\n",
       "Name: fare_amount, dtype: float64"
      ]
     },
     "execution_count": 285,
     "metadata": {},
     "output_type": "execute_result"
    }
   ],
   "source": [
    "train.corr()['fare_amount']"
   ]
  },
  {
   "cell_type": "code",
   "execution_count": 286,
   "metadata": {},
   "outputs": [
    {
     "data": {
      "text/plain": [
       "<Figure size 432x288 with 0 Axes>"
      ]
     },
     "metadata": {},
     "output_type": "display_data"
    },
    {
     "data": {
      "image/png": "[encoded data removed]",
      "text/plain": [
       "<Figure size 576x360 with 1 Axes>"
      ]
     },
     "metadata": {
      "needs_background": "light"
     },
     "output_type": "display_data"
    }
   ],
   "source": [
    "plt.figure()\n",
    "c = sns.catplot(x='year', y='fare_amount', data=train, kind='bar')\n",
    "c.fig.set_size_inches(8, 5)"
   ]
  },
  {
   "cell_type": "markdown",
   "metadata": {},
   "source": [
    "As expected, the fare rises over time due to inflation and rising prices"
   ]
  },
  {
   "cell_type": "code",
   "execution_count": 287,
   "metadata": {},
   "outputs": [
    {
     "data": {
      "text/plain": [
       "<matplotlib.axes._subplots.AxesSubplot at 0x7f8177619518>"
      ]
     },
     "execution_count": 287,
     "metadata": {},
     "output_type": "execute_result"
    },
    {
     "data": {
      "image/png": "[encoded data removed]",
      "text/plain": [
       "<Figure size 432x288 with 1 Axes>"
      ]
     },
     "metadata": {
      "needs_background": "light"
     },
     "output_type": "display_data"
    }
   ],
   "source": [
    "sns.scatterplot(train.dist_euclidean, train.fare_amount)"
   ]
  },
  {
   "cell_type": "code",
   "execution_count": 288,
   "metadata": {},
   "outputs": [],
   "source": [
    "# Looking at these rows, the fare was high but the car hardly covered any distance.\n",
    "# Knowing there is a standing fee (30$ per hour), it means the passenger would\n",
    "# need to be stuck in traffic almost 7-8 hours, which is not reasonable."
   ]
  },
  {
   "cell_type": "code",
   "execution_count": 289,
   "metadata": {},
   "outputs": [
    {
     "data": {
      "text/html": [
       "<div>\n",
       "<style scoped>\n",
       "    .dataframe tbody tr th:only-of-type {\n",
       "        vertical-align: middle;\n",
       "    }\n",
       "\n",
       "    .dataframe tbody tr th {\n",
       "        vertical-align: top;\n",
       "    }\n",
       "\n",
       "    .dataframe thead th {\n",
       "        text-align: right;\n",
       "    }\n",
       "</style>\n",
       "<table border=\"1\" class=\"dataframe\">\n",
       "  <thead>\n",
       "    <tr style=\"text-align: right;\">\n",
       "      <th></th>\n",
       "      <th>fare_amount</th>\n",
       "      <th>dist_euclidean</th>\n",
       "    </tr>\n",
       "  </thead>\n",
       "  <tbody>\n",
       "    <tr>\n",
       "      <th>217602</th>\n",
       "      <td>315.00</td>\n",
       "      <td>0.28</td>\n",
       "    </tr>\n",
       "    <tr>\n",
       "      <th>74585</th>\n",
       "      <td>250.00</td>\n",
       "      <td>1.12</td>\n",
       "    </tr>\n",
       "    <tr>\n",
       "      <th>427192</th>\n",
       "      <td>245.54</td>\n",
       "      <td>57.52</td>\n",
       "    </tr>\n",
       "    <tr>\n",
       "      <th>17290</th>\n",
       "      <td>236.25</td>\n",
       "      <td>54.63</td>\n",
       "    </tr>\n",
       "    <tr>\n",
       "      <th>271117</th>\n",
       "      <td>231.00</td>\n",
       "      <td>61.53</td>\n",
       "    </tr>\n",
       "    <tr>\n",
       "      <th>202475</th>\n",
       "      <td>225.85</td>\n",
       "      <td>0.00</td>\n",
       "    </tr>\n",
       "    <tr>\n",
       "      <th>150503</th>\n",
       "      <td>222.30</td>\n",
       "      <td>0.00</td>\n",
       "    </tr>\n",
       "    <tr>\n",
       "      <th>499615</th>\n",
       "      <td>220.00</td>\n",
       "      <td>1.70</td>\n",
       "    </tr>\n",
       "    <tr>\n",
       "      <th>153968</th>\n",
       "      <td>218.00</td>\n",
       "      <td>0.00</td>\n",
       "    </tr>\n",
       "    <tr>\n",
       "      <th>467941</th>\n",
       "      <td>215.20</td>\n",
       "      <td>44.37</td>\n",
       "    </tr>\n",
       "    <tr>\n",
       "      <th>431015</th>\n",
       "      <td>191.00</td>\n",
       "      <td>0.00</td>\n",
       "    </tr>\n",
       "    <tr>\n",
       "      <th>217054</th>\n",
       "      <td>184.00</td>\n",
       "      <td>44.23</td>\n",
       "    </tr>\n",
       "    <tr>\n",
       "      <th>10362</th>\n",
       "      <td>180.00</td>\n",
       "      <td>59.80</td>\n",
       "    </tr>\n",
       "    <tr>\n",
       "      <th>189538</th>\n",
       "      <td>179.08</td>\n",
       "      <td>35.54</td>\n",
       "    </tr>\n",
       "    <tr>\n",
       "      <th>190327</th>\n",
       "      <td>175.33</td>\n",
       "      <td>36.12</td>\n",
       "    </tr>\n",
       "    <tr>\n",
       "      <th>302553</th>\n",
       "      <td>175.00</td>\n",
       "      <td>20.61</td>\n",
       "    </tr>\n",
       "    <tr>\n",
       "      <th>239594</th>\n",
       "      <td>172.00</td>\n",
       "      <td>39.15</td>\n",
       "    </tr>\n",
       "    <tr>\n",
       "      <th>393751</th>\n",
       "      <td>170.30</td>\n",
       "      <td>41.68</td>\n",
       "    </tr>\n",
       "    <tr>\n",
       "      <th>182503</th>\n",
       "      <td>165.33</td>\n",
       "      <td>34.26</td>\n",
       "    </tr>\n",
       "    <tr>\n",
       "      <th>401047</th>\n",
       "      <td>164.00</td>\n",
       "      <td>42.01</td>\n",
       "    </tr>\n",
       "  </tbody>\n",
       "</table>\n",
       "</div>"
      ],
      "text/plain": [
       "        fare_amount  dist_euclidean\n",
       "217602       315.00            0.28\n",
       "74585        250.00            1.12\n",
       "427192       245.54           57.52\n",
       "17290        236.25           54.63\n",
       "271117       231.00           61.53\n",
       "202475       225.85            0.00\n",
       "150503       222.30            0.00\n",
       "499615       220.00            1.70\n",
       "153968       218.00            0.00\n",
       "467941       215.20           44.37\n",
       "431015       191.00            0.00\n",
       "217054       184.00           44.23\n",
       "10362        180.00           59.80\n",
       "189538       179.08           35.54\n",
       "190327       175.33           36.12\n",
       "302553       175.00           20.61\n",
       "239594       172.00           39.15\n",
       "393751       170.30           41.68\n",
       "182503       165.33           34.26\n",
       "401047       164.00           42.01"
      ]
     },
     "execution_count": 289,
     "metadata": {},
     "output_type": "execute_result"
    }
   ],
   "source": [
    "train.sort_values('fare_amount', ascending=False)[['fare_amount', 'dist_euclidean']].head(20)"
   ]
  },
  {
   "cell_type": "code",
   "execution_count": 290,
   "metadata": {},
   "outputs": [],
   "source": [
    "# Dropping the rows where the distance was less than 2km and the passenger\n",
    "# presumably spent more than 2 hours in a cab\n",
    "\n",
    "train = train[~ ( (train.dist_euclidean < 2) & (train.fare_amount > 80) ) ]"
   ]
  },
  {
   "cell_type": "code",
   "execution_count": 291,
   "metadata": {},
   "outputs": [
    {
     "data": {
      "text/plain": [
       "<matplotlib.axes._subplots.AxesSubplot at 0x7f817751aac8>"
      ]
     },
     "execution_count": 291,
     "metadata": {},
     "output_type": "execute_result"
    },
    {
     "data": {
      "image/png": "[encoded data removed]",
      "text/plain": [
       "<Figure size 432x288 with 1 Axes>"
      ]
     },
     "metadata": {
      "needs_background": "light"
     },
     "output_type": "display_data"
    }
   ],
   "source": [
    "sns.scatterplot(train.dist_euclidean, train.fare_amount)"
   ]
  },
  {
   "cell_type": "code",
   "execution_count": 292,
   "metadata": {},
   "outputs": [
    {
     "data": {
      "text/plain": [
       "<seaborn.axisgrid.FacetGrid at 0x7f81775b49e8>"
      ]
     },
     "execution_count": 292,
     "metadata": {},
     "output_type": "execute_result"
    },
    {
     "data": {
      "image/png": "[encoded data removed]",
      "text/plain": [
       "<Figure size 360x360 with 1 Axes>"
      ]
     },
     "metadata": {
      "needs_background": "light"
     },
     "output_type": "display_data"
    }
   ],
   "source": [
    "sns.catplot(x='passenger_count', y='fare_amount', data=train , kind='bar')"
   ]
  },
  {
   "cell_type": "code",
   "execution_count": 293,
   "metadata": {},
   "outputs": [
    {
     "data": {
      "text/html": [
       "<div>\n",
       "<style scoped>\n",
       "    .dataframe tbody tr th:only-of-type {\n",
       "        vertical-align: middle;\n",
       "    }\n",
       "\n",
       "    .dataframe tbody tr th {\n",
       "        vertical-align: top;\n",
       "    }\n",
       "\n",
       "    .dataframe thead th {\n",
       "        text-align: right;\n",
       "    }\n",
       "</style>\n",
       "<table border=\"1\" class=\"dataframe\">\n",
       "  <thead>\n",
       "    <tr style=\"text-align: right;\">\n",
       "      <th></th>\n",
       "      <th>fare_amount</th>\n",
       "      <th>pickup_longitude</th>\n",
       "      <th>pickup_latitude</th>\n",
       "      <th>dropoff_longitude</th>\n",
       "      <th>dropoff_latitude</th>\n",
       "      <th>passenger_count</th>\n",
       "      <th>dataset</th>\n",
       "      <th>hour</th>\n",
       "      <th>year</th>\n",
       "      <th>weekday</th>\n",
       "      <th>month</th>\n",
       "      <th>dist_manhattan</th>\n",
       "      <th>dist_euclidean</th>\n",
       "      <th>dist_bins</th>\n",
       "    </tr>\n",
       "  </thead>\n",
       "  <tbody>\n",
       "    <tr>\n",
       "      <th>520035</th>\n",
       "      <td>2.70</td>\n",
       "      <td>-73.94</td>\n",
       "      <td>40.76</td>\n",
       "      <td>-73.94</td>\n",
       "      <td>40.76</td>\n",
       "      <td>208</td>\n",
       "      <td>train</td>\n",
       "      <td>21</td>\n",
       "      <td>2009</td>\n",
       "      <td>0</td>\n",
       "      <td>3</td>\n",
       "      <td>0.00</td>\n",
       "      <td>0.00</td>\n",
       "      <td>0</td>\n",
       "    </tr>\n",
       "  </tbody>\n",
       "</table>\n",
       "</div>"
      ],
      "text/plain": [
       "        fare_amount  pickup_longitude  pickup_latitude  dropoff_longitude  \\\n",
       "520035         2.70            -73.94            40.76             -73.94   \n",
       "\n",
       "        dropoff_latitude  passenger_count dataset  hour  year  weekday  month  \\\n",
       "520035             40.76              208   train    21  2009        0      3   \n",
       "\n",
       "        dist_manhattan  dist_euclidean dist_bins  \n",
       "520035            0.00            0.00         0  "
      ]
     },
     "execution_count": 293,
     "metadata": {},
     "output_type": "execute_result"
    }
   ],
   "source": [
    "train[train.passenger_count == 208]"
   ]
  },
  {
   "cell_type": "code",
   "execution_count": 294,
   "metadata": {},
   "outputs": [],
   "source": [
    "train = train[train.passenger_count < 7]"
   ]
  },
  {
   "cell_type": "code",
   "execution_count": 295,
   "metadata": {},
   "outputs": [],
   "source": [
    "train.to_pickle('train_taxi.pkl')\n",
    "test.to_pickle('test_taxi.pkl')"
   ]
  },
  {
   "cell_type": "code",
   "execution_count": 2,
   "metadata": {},
   "outputs": [],
   "source": [
    "train = pd.read_pickle('train_taxi.pkl')\n",
    "test = pd.read_pickle('test_taxi.pkl')"
   ]
  },
  {
   "cell_type": "code",
   "execution_count": 201,
   "metadata": {},
   "outputs": [],
   "source": [
    "# The biggest problem with this dataset is that there is not dropoff time."
   ]
  },
  {
   "cell_type": "markdown",
   "metadata": {},
   "source": [
    "# Model selection"
   ]
  },
  {
   "cell_type": "markdown",
   "metadata": {},
   "source": [
    "This dataset is highly linear (distance - fare) so linear models should perform quite well."
   ]
  },
  {
   "cell_type": "code",
   "execution_count": 3,
   "metadata": {},
   "outputs": [],
   "source": [
    "\n",
    "train.drop(['dataset', 'dist_bins', 'dist_manhattan'], axis=1, inplace=True)"
   ]
  },
  {
   "cell_type": "code",
   "execution_count": 4,
   "metadata": {},
   "outputs": [],
   "source": [
    "y = train.fare_amount\n",
    "train.drop('fare_amount', axis=1, inplace=True)\n",
    "\n",
    "X_train, X_test, y_train, y_test = train_test_split(train, y, test_size=0.2, random_state=0)\n",
    "\n",
    "\n",
    "# In the interest of preventing information about the distribution of the test set \n",
    "# leaking into your model, you should go for option #2 and fit the scaler on your \n",
    "# training data only, then standardise both training and test sets with that scaler. \n",
    "# By fitting the scaler on the full dataset prior to splitting (option #1), information \n",
    "# about the test set is used to transform the training set, which in turn is passed downstream.\n",
    "\n",
    "# https://datascience.stackexchange.com/questions/38395/standardscaler-before-and-after-splitting-data"
   ]
  },
  {
   "cell_type": "code",
   "execution_count": 5,
   "metadata": {},
   "outputs": [],
   "source": [
    "sc_X = StandardScaler()\n",
    "X_train = sc_X.fit_transform(np.array(X_train))\n",
    "X_test = sc_X.transform(np.array(X_test))"
   ]
  },
  {
   "cell_type": "markdown",
   "metadata": {},
   "source": [
    "### KNN"
   ]
  },
  {
   "cell_type": "code",
   "execution_count": 7,
   "metadata": {},
   "outputs": [
    {
     "data": {
      "text/plain": [
       "{'weights': 'distance', 'p': 1, 'n_neighbors': 15}"
      ]
     },
     "execution_count": 7,
     "metadata": {},
     "output_type": "execute_result"
    }
   ],
   "source": [
    "knn = KNeighborsRegressor()\n",
    "\n",
    "param_grid = {'n_neighbors': np.arange(1, 25), \n",
    "              'weights': ['uniform', 'distance'], # give more voting power to points that are closer\n",
    "             'p' : [1, 2]} # euclidean vs manhattan\n",
    "\n",
    "# Randomsearch, by convention, always tries to maximize its score so loss functions like MSE have to be negated\n",
    "knn_gscv = RandomizedSearchCV(knn, param_grid, cv=3,scoring='neg_mean_squared_error', n_jobs=-1)\n",
    "knn_gscv.fit(X_train, y_train)\n",
    "knn_gscv.best_params_"
   ]
  },
  {
   "cell_type": "code",
   "execution_count": 8,
   "metadata": {},
   "outputs": [],
   "source": [
    "\n",
    "best_knn = KNeighborsRegressor(n_neighbors=knn_gscv.best_params_['n_neighbors'], \n",
    "                               weights=knn_gscv.best_params_['weights'],\n",
    "                              p =knn_gscv.best_params_['p'])\n",
    "'''\n",
    "\n",
    "best_knn = KNeighborsRegressor(n_neighbors=18, \n",
    "                               weights='uniform',\n",
    "                              p =1, algorithm='kd_tree')\n",
    "'''\n",
    "best_knn.fit(X_train, y_train)\n",
    "\n",
    "pred = best_knn.predict(X_test)\n",
    "error = math.sqrt(mean_squared_error(y_test,pred))"
   ]
  },
  {
   "cell_type": "code",
   "execution_count": 9,
   "metadata": {},
   "outputs": [],
   "source": [
    "test_errors = {'knn' : error}"
   ]
  },
  {
   "cell_type": "markdown",
   "metadata": {},
   "source": [
    "# Decision Trees"
   ]
  },
  {
   "cell_type": "code",
   "execution_count": 10,
   "metadata": {},
   "outputs": [],
   "source": [
    "leaf_size = np.linspace(0.001, 0.1, 10, endpoint=True)"
   ]
  },
  {
   "cell_type": "code",
   "execution_count": 11,
   "metadata": {},
   "outputs": [
    {
     "data": {
      "text/plain": [
       "{'min_samples_leaf': 0.001, 'max_depth': 50}"
      ]
     },
     "execution_count": 11,
     "metadata": {},
     "output_type": "execute_result"
    }
   ],
   "source": [
    "tree = DecisionTreeRegressor()\n",
    "\n",
    "param_grid = {'max_depth': [int(x) for x in np.linspace(1, 100, num=15)],\n",
    "             'min_samples_leaf' : leaf_size}\n",
    "\n",
    "tree_gscv = RandomizedSearchCV(tree, param_grid, cv=3,scoring='neg_mean_squared_error', n_jobs=-1)\n",
    "tree_gscv.fit(X_train, y_train)\n",
    "tree_gscv.best_params_"
   ]
  },
  {
   "cell_type": "code",
   "execution_count": 12,
   "metadata": {},
   "outputs": [],
   "source": [
    "# A leaf is a node that won't be split further.\n",
    "# The default value for min_samples_leaf is 1, which would lead to overfitting.\n",
    "\n",
    "\n",
    "best_tree = DecisionTreeRegressor(min_samples_leaf= tree_gscv.best_params_['min_samples_leaf'], \n",
    "                                  max_depth= tree_gscv.best_params_['max_depth'] )\n",
    "'''\n",
    "\n",
    "\n",
    "best_tree = DecisionTreeRegressor(min_samples_leaf= 0.012, \n",
    "                                  max_depth= 57)\n",
    "'''\n",
    "                                 \n",
    "best_tree.fit(X_train, y_train)\n",
    "pred = best_tree.predict(X_test)\n",
    "error = math.sqrt(mean_squared_error(y_test,pred))"
   ]
  },
  {
   "cell_type": "code",
   "execution_count": 13,
   "metadata": {},
   "outputs": [],
   "source": [
    "test_errors['tree'] = error"
   ]
  },
  {
   "cell_type": "markdown",
   "metadata": {},
   "source": [
    "# Random Forest"
   ]
  },
  {
   "cell_type": "markdown",
   "metadata": {},
   "source": [
    "They're an example of BAGGING, where a lot of weak models are combined to create a strong model. Those models are not dependent on each other (paralell). Random forests build many trees, and use a majority vote (or a mean of vote) to predict the dependent variable. When building each tree, a random set of rows and features is selected. This makes this model very robust to overfitting."
   ]
  },
  {
   "cell_type": "markdown",
   "metadata": {},
   "source": [
    "<b>I could not run this model as I have not enough RAM and the kernel crashes.<br>\n",
    "It's performance should be, however, on par with AdaBoost (or slightly worse)"
   ]
  },
  {
   "cell_type": "code",
   "execution_count": null,
   "metadata": {},
   "outputs": [],
   "source": [
    "forest = RandomForestRegressor(n_jobs=-1)\n",
    "\n",
    "param_grid = {'n_estimators': [int(x) for x in np.linspace(3, 300, num=15) ], }\n",
    "\n",
    "forest_gscv = RandomizedSearchCV(forest, param_grid, cv=3,scoring='neg_mean_squared_error', n_jobs=-1)\n",
    "forest_gscv.fit(X_train, y_train)\n",
    "forest_gscv.best_params_"
   ]
  },
  {
   "cell_type": "code",
   "execution_count": null,
   "metadata": {},
   "outputs": [],
   "source": [
    "#best_forest = RandomForestRegressor(n_estimators = forest_gscv.best_params_['n_estimators'])\n",
    "best_forest = RandomForestRegressor(n_estimators = 300)\n",
    "best_forest.fit(X_train, y_train)\n",
    "pred = best_forest.predict(X_test)\n",
    "error = math.sqrt(mean_squared_error(y_test,pred))\n",
    "\n",
    "test_errors['forest'] = error"
   ]
  },
  {
   "cell_type": "code",
   "execution_count": null,
   "metadata": {},
   "outputs": [],
   "source": [
    "test_errors"
   ]
  },
  {
   "cell_type": "markdown",
   "metadata": {},
   "source": [
    "# Lasso Regression"
   ]
  },
  {
   "cell_type": "code",
   "execution_count": 14,
   "metadata": {},
   "outputs": [],
   "source": [
    "params = {'alpha' : np.linspace(0.1, 500000, num=1000)}\n",
    "\n",
    "lasso = linear_model.Lasso()\n",
    "lasso_grid = RandomizedSearchCV(lasso, params, cv=5, scoring='neg_mean_squared_error', n_jobs=-1)\n",
    "\n",
    "lasso_grid.fit(X_train, y_train);"
   ]
  },
  {
   "cell_type": "code",
   "execution_count": 15,
   "metadata": {},
   "outputs": [],
   "source": [
    "best_lasso = linear_model.Lasso(alpha=lasso_grid.best_params_['alpha'])\n",
    "\n",
    "best_lasso.fit(X_train, y_train)\n",
    "pred = best_lasso.predict(X_test)\n",
    "error = math.sqrt(mean_squared_error(y_test,pred))"
   ]
  },
  {
   "cell_type": "code",
   "execution_count": 16,
   "metadata": {},
   "outputs": [],
   "source": [
    "test_errors['lasso'] = error"
   ]
  },
  {
   "cell_type": "markdown",
   "metadata": {},
   "source": [
    "# Ridge Regression"
   ]
  },
  {
   "cell_type": "code",
   "execution_count": 17,
   "metadata": {},
   "outputs": [],
   "source": [
    "from sklearn.linear_model import Ridge\n",
    "params = {'alpha' : np.linspace(0.1, 500000, num=1000)}\n",
    "\n",
    "ridge = linear_model.Ridge()\n",
    "ridge_grid = RandomizedSearchCV(ridge, params, cv=5, scoring='neg_mean_squared_error', n_jobs=-1)\n",
    "\n",
    "ridge_grid.fit(X_train, y_train);"
   ]
  },
  {
   "cell_type": "code",
   "execution_count": 18,
   "metadata": {},
   "outputs": [],
   "source": [
    "best_ridge = linear_model.Ridge(alpha=ridge_grid.best_params_['alpha'])\n",
    "\n",
    "best_ridge.fit(X_train, y_train)\n",
    "pred = best_ridge.predict(X_test)\n",
    "error = math.sqrt(mean_squared_error(y_test,pred))"
   ]
  },
  {
   "cell_type": "code",
   "execution_count": 19,
   "metadata": {},
   "outputs": [],
   "source": [
    "test_errors['ridge'] = error"
   ]
  },
  {
   "cell_type": "markdown",
   "metadata": {},
   "source": [
    "### Adaboost"
   ]
  },
  {
   "cell_type": "markdown",
   "metadata": {},
   "source": [
    "Boosting involves creating many weak models, that are dependent on each other (unlike bagging). For every model, the weights are increased on the data points where the previous model got the answers wrong. At the end, every model gets its own importance weight, depending on its accuracy. Then the voting happens."
   ]
  },
  {
   "cell_type": "markdown",
   "metadata": {},
   "source": [
    "With pipeline to prevent data leakage:"
   ]
  },
  {
   "cell_type": "code",
   "execution_count": null,
   "metadata": {},
   "outputs": [
    {
     "name": "stderr",
     "output_type": "stream",
     "text": [
      "/usr/local/lib/python3.6/dist-packages/joblib/externals/loky/process_executor.py:706: UserWarning: A worker stopped while some jobs were given to the executor. This can be caused by a too short worker timeout or by a memory leak.\n",
      "  \"timeout or by a memory leak.\", UserWarning\n"
     ]
    }
   ],
   "source": [
    "from sklearn.pipeline import Pipeline\n",
    "\n",
    "ada_pipe = Pipeline((\n",
    "        (\"standard_scaler\", StandardScaler()),\n",
    "        (\"adaboost\", AdaBoostRegressor()),\n",
    "    ))\n",
    "\n",
    "ada = AdaBoostRegressor(base_estimator=ada_pipe, random_state=0)\n",
    "\n",
    "params = {'n_estimators': range(2, 100)}\n",
    "ada_grid = RandomizedSearchCV(ada, params, cv=3, scoring='neg_mean_squared_error', n_jobs=-1)\n",
    "ada_grid.fit(X_train, y_train);\n",
    "ada_grid.best_params_['n_estimators']"
   ]
  },
  {
   "cell_type": "markdown",
   "metadata": {},
   "source": [
    "Without pipeline (much faster):"
   ]
  },
  {
   "cell_type": "code",
   "execution_count": 20,
   "metadata": {},
   "outputs": [
    {
     "name": "stderr",
     "output_type": "stream",
     "text": [
      "/usr/local/lib/python3.6/dist-packages/joblib/externals/loky/process_executor.py:706: UserWarning: A worker stopped while some jobs were given to the executor. This can be caused by a too short worker timeout or by a memory leak.\n",
      "  \"timeout or by a memory leak.\", UserWarning\n"
     ]
    },
    {
     "data": {
      "text/plain": [
       "87"
      ]
     },
     "execution_count": 20,
     "metadata": {},
     "output_type": "execute_result"
    }
   ],
   "source": [
    "ada = AdaBoostRegressor(base_estimator=DecisionTreeRegressor(),\n",
    "                              random_state=0)\n",
    "params = {'n_estimators': range(2, 100)}\n",
    "ada_grid = RandomizedSearchCV(ada, params, cv=3, scoring='neg_mean_squared_error', n_jobs=-1)\n",
    "ada_grid.fit(X_train, y_train);\n",
    "ada_grid.best_params_['n_estimators']\n"
   ]
  },
  {
   "cell_type": "code",
   "execution_count": 21,
   "metadata": {},
   "outputs": [],
   "source": [
    "\n",
    "best_ada = AdaBoostRegressor(base_estimator=DecisionTreeRegressor(),\n",
    "                              random_state=0, \n",
    "                             n_estimators=ada_grid.best_params_['n_estimators'])\n",
    "'''\n",
    "\n",
    "best_ada = AdaBoostRegressor(base_estimator=DecisionTreeRegressor(),\n",
    "                              random_state=0, \n",
    "                             n_estimators=87)\n",
    "'''\n",
    "best_ada.fit(X_train, y_train)\n",
    "pred = best_ada.predict(X_test)\n",
    "error = math.sqrt(mean_squared_error(y_test,pred))"
   ]
  },
  {
   "cell_type": "code",
   "execution_count": 22,
   "metadata": {},
   "outputs": [],
   "source": [
    "test_errors['ada'] = error"
   ]
  },
  {
   "cell_type": "markdown",
   "metadata": {},
   "source": [
    "## Model leaderboard"
   ]
  },
  {
   "cell_type": "code",
   "execution_count": 24,
   "metadata": {},
   "outputs": [
    {
     "data": {
      "text/plain": [
       "ada     3.42\n",
       "knn     3.68\n",
       "tree    3.80\n",
       "ridge   5.02\n",
       "lasso   9.41\n",
       "dtype: float64"
      ]
     },
     "execution_count": 24,
     "metadata": {},
     "output_type": "execute_result"
    }
   ],
   "source": [
    "pd.Series(test_errors).sort_values()"
   ]
  },
  {
   "cell_type": "code",
   "execution_count": 25,
   "metadata": {},
   "outputs": [
    {
     "data": {
      "text/html": [
       "\n",
       "    <style>\n",
       "    table.eli5-weights tr:hover {\n",
       "        filter: brightness(85%);\n",
       "    }\n",
       "</style>\n",
       "\n",
       "\n",
       "\n",
       "    \n",
       "\n",
       "    \n",
       "\n",
       "    \n",
       "\n",
       "    \n",
       "\n",
       "    \n",
       "\n",
       "    \n",
       "\n",
       "\n",
       "    \n",
       "\n",
       "    \n",
       "\n",
       "    \n",
       "\n",
       "    \n",
       "\n",
       "    \n",
       "\n",
       "    \n",
       "\n",
       "\n",
       "    \n",
       "\n",
       "    \n",
       "\n",
       "    \n",
       "\n",
       "    \n",
       "\n",
       "    \n",
       "        <table class=\"eli5-weights eli5-feature-importances\" style=\"border-collapse: collapse; border: none; margin-top: 0em; table-layout: auto;\">\n",
       "    <thead>\n",
       "    <tr style=\"border: none;\">\n",
       "        <th style=\"padding: 0 1em 0 0.5em; text-align: right; border: none;\">Weight</th>\n",
       "        <th style=\"padding: 0 0.5em 0 0.5em; text-align: left; border: none;\">Feature</th>\n",
       "    </tr>\n",
       "    </thead>\n",
       "    <tbody>\n",
       "    \n",
       "        <tr style=\"background-color: hsl(120, 100.00%, 80.00%); border: none;\">\n",
       "            <td style=\"padding: 0 1em 0 0.5em; text-align: right; border: none;\">\n",
       "                0.6351\n",
       "                \n",
       "                    &plusmn; 0.0863\n",
       "                \n",
       "            </td>\n",
       "            <td style=\"padding: 0 0.5em 0 0.5em; text-align: left; border: none;\">\n",
       "                dist_euclidean\n",
       "            </td>\n",
       "        </tr>\n",
       "    \n",
       "        <tr style=\"background-color: hsl(120, 100.00%, 94.05%); border: none;\">\n",
       "            <td style=\"padding: 0 1em 0 0.5em; text-align: right; border: none;\">\n",
       "                0.1125\n",
       "                \n",
       "                    &plusmn; 0.0609\n",
       "                \n",
       "            </td>\n",
       "            <td style=\"padding: 0 0.5em 0 0.5em; text-align: left; border: none;\">\n",
       "                dropoff_longitude\n",
       "            </td>\n",
       "        </tr>\n",
       "    \n",
       "        <tr style=\"background-color: hsl(120, 100.00%, 95.30%); border: none;\">\n",
       "            <td style=\"padding: 0 1em 0 0.5em; text-align: right; border: none;\">\n",
       "                0.0803\n",
       "                \n",
       "                    &plusmn; 0.0810\n",
       "                \n",
       "            </td>\n",
       "            <td style=\"padding: 0 0.5em 0 0.5em; text-align: left; border: none;\">\n",
       "                dropoff_latitude\n",
       "            </td>\n",
       "        </tr>\n",
       "    \n",
       "        <tr style=\"background-color: hsl(120, 100.00%, 96.69%); border: none;\">\n",
       "            <td style=\"padding: 0 1em 0 0.5em; text-align: right; border: none;\">\n",
       "                0.0486\n",
       "                \n",
       "                    &plusmn; 0.0314\n",
       "                \n",
       "            </td>\n",
       "            <td style=\"padding: 0 0.5em 0 0.5em; text-align: left; border: none;\">\n",
       "                pickup_longitude\n",
       "            </td>\n",
       "        </tr>\n",
       "    \n",
       "        <tr style=\"background-color: hsl(120, 100.00%, 97.34%); border: none;\">\n",
       "            <td style=\"padding: 0 1em 0 0.5em; text-align: right; border: none;\">\n",
       "                0.0355\n",
       "                \n",
       "                    &plusmn; 0.0230\n",
       "                \n",
       "            </td>\n",
       "            <td style=\"padding: 0 0.5em 0 0.5em; text-align: left; border: none;\">\n",
       "                year\n",
       "            </td>\n",
       "        </tr>\n",
       "    \n",
       "        <tr style=\"background-color: hsl(120, 100.00%, 97.38%); border: none;\">\n",
       "            <td style=\"padding: 0 1em 0 0.5em; text-align: right; border: none;\">\n",
       "                0.0348\n",
       "                \n",
       "                    &plusmn; 0.0137\n",
       "                \n",
       "            </td>\n",
       "            <td style=\"padding: 0 0.5em 0 0.5em; text-align: left; border: none;\">\n",
       "                pickup_latitude\n",
       "            </td>\n",
       "        </tr>\n",
       "    \n",
       "        <tr style=\"background-color: hsl(120, 100.00%, 98.15%); border: none;\">\n",
       "            <td style=\"padding: 0 1em 0 0.5em; text-align: right; border: none;\">\n",
       "                0.0212\n",
       "                \n",
       "                    &plusmn; 0.0175\n",
       "                \n",
       "            </td>\n",
       "            <td style=\"padding: 0 0.5em 0 0.5em; text-align: left; border: none;\">\n",
       "                hour\n",
       "            </td>\n",
       "        </tr>\n",
       "    \n",
       "        <tr style=\"background-color: hsl(120, 100.00%, 98.57%); border: none;\">\n",
       "            <td style=\"padding: 0 1em 0 0.5em; text-align: right; border: none;\">\n",
       "                0.0147\n",
       "                \n",
       "                    &plusmn; 0.0067\n",
       "                \n",
       "            </td>\n",
       "            <td style=\"padding: 0 0.5em 0 0.5em; text-align: left; border: none;\">\n",
       "                month\n",
       "            </td>\n",
       "        </tr>\n",
       "    \n",
       "        <tr style=\"background-color: hsl(120, 100.00%, 98.80%); border: none;\">\n",
       "            <td style=\"padding: 0 1em 0 0.5em; text-align: right; border: none;\">\n",
       "                0.0114\n",
       "                \n",
       "                    &plusmn; 0.0198\n",
       "                \n",
       "            </td>\n",
       "            <td style=\"padding: 0 0.5em 0 0.5em; text-align: left; border: none;\">\n",
       "                weekday\n",
       "            </td>\n",
       "        </tr>\n",
       "    \n",
       "        <tr style=\"background-color: hsl(120, 100.00%, 99.26%); border: none;\">\n",
       "            <td style=\"padding: 0 1em 0 0.5em; text-align: right; border: none;\">\n",
       "                0.0058\n",
       "                \n",
       "                    &plusmn; 0.0060\n",
       "                \n",
       "            </td>\n",
       "            <td style=\"padding: 0 0.5em 0 0.5em; text-align: left; border: none;\">\n",
       "                passenger_count\n",
       "            </td>\n",
       "        </tr>\n",
       "    \n",
       "    \n",
       "    </tbody>\n",
       "</table>\n",
       "    \n",
       "\n",
       "    \n",
       "\n",
       "\n",
       "    \n",
       "\n",
       "    \n",
       "\n",
       "    \n",
       "\n",
       "    \n",
       "\n",
       "    \n",
       "\n",
       "    \n",
       "\n",
       "\n",
       "\n"
      ],
      "text/plain": [
       "<IPython.core.display.HTML object>"
      ]
     },
     "execution_count": 25,
     "metadata": {},
     "output_type": "execute_result"
    }
   ],
   "source": [
    "eli5.show_weights(best_ada, feature_names=list(train.columns))"
   ]
  },
  {
   "cell_type": "code",
   "execution_count": 28,
   "metadata": {},
   "outputs": [],
   "source": [
    "key = test.key\n",
    "\n",
    "test = test[ ['pickup_longitude', 'pickup_latitude', 'dropoff_longitude',\n",
    "       'dropoff_latitude', 'passenger_count', 'hour', 'year', 'weekday',\n",
    "       'month', 'dist_euclidean']]"
   ]
  },
  {
   "cell_type": "code",
   "execution_count": 29,
   "metadata": {},
   "outputs": [],
   "source": [
    "X_test = sc_X.transform(np.array(test))"
   ]
  },
  {
   "cell_type": "code",
   "execution_count": 30,
   "metadata": {},
   "outputs": [],
   "source": [
    "FINAL = pd.DataFrame()\n",
    "FINAL['key'] = key\n",
    "FINAL['fare_amount'] = list(best_ada.predict(X_test))\n",
    "FINAL.reset_index(inplace=True, drop=True)"
   ]
  },
  {
   "cell_type": "code",
   "execution_count": 31,
   "metadata": {},
   "outputs": [],
   "source": [
    "FINAL.to_csv('nyc_submission.csv', index=False)"
   ]
  },
  {
   "cell_type": "markdown",
   "metadata": {},
   "source": [
    "My score was 3.50906 which puts me in top 45% of participants, which is slightly better than average."
   ]
  },
  {
   "cell_type": "code",
   "execution_count": null,
   "metadata": {},
   "outputs": [],
   "source": []
  }
 ],
 "metadata": {
  "kernelspec": {
   "display_name": "Python 3",
   "language": "python",
   "name": "python3"
  },
  "language_info": {
   "codemirror_mode": {
    "name": "ipython",
    "version": 3
   },
   "file_extension": ".py",
   "mimetype": "text/x-python",
   "name": "python",
   "nbconvert_exporter": "python",
   "pygments_lexer": "ipython3",
   "version": "3.6.9"
  }
 },
 "nbformat": 4,
 "nbformat_minor": 4
}
