{
 "cells": [
  {
   "cell_type": "markdown",
   "metadata": {},
   "source": [
    "### Have you ever wondered if you should pay 1000€ for a smartphone? \n",
    "Does the price really come with the quality? \n",
    "Will it indeed serve you a longer time, and hence make the price worth it?\n",
    "\n",
    "For example, If 30€ generic pair of jeans last 12 months, \n",
    "it's not worth it to pay 120€ for Levi's that last 18 months, \n",
    "as you could have 48 months worth of jeans vs 18 months, for the same price.\n",
    "\n",
    "In my personal experience, I have noticed that expensive electronics break as often as cheap ones do. \n",
    "I also have noticed, that while it is worth to pay slightly more for a device (buy the second cheapest device), \n",
    "it often wasn't a good deal to pay premium.\n",
    "\n",
    "So far this is just an opinion - what would the data say?\n",
    "\n",
    "To this aim, I am going to scrape Amazon reviews forsmartphones to find out \n",
    "if more expensive smartphones result in more customer happiness."
   ]
  },
  {
   "cell_type": "code",
   "execution_count": 1,
   "metadata": {},
   "outputs": [
    {
     "name": "stderr",
     "output_type": "stream",
     "text": [
      "/usr/lib/python3/dist-packages/requests/__init__.py:80: RequestsDependencyWarning: urllib3 (1.22) or chardet (2.3.0) doesn't match a supported version!\n",
      "  RequestsDependencyWarning)\n"
     ]
    }
   ],
   "source": [
    "from selenium import webdriver\n",
    "from bs4 import BeautifulSoup\n",
    "import time\n",
    "import pandas as pd\n",
    "import random\n",
    "import re\n",
    "from selenium.common.exceptions import NoSuchElementException\n",
    "import requests\n",
    "from selenium.webdriver.support.ui import Select\n",
    "import matplotlib.pyplot as plt\n",
    "%matplotlib notebook\n",
    "import random\n",
    "from random import shuffle\n",
    "import re\n",
    "pd.options.mode.chained_assignment = None"
   ]
  },
  {
   "cell_type": "code",
   "execution_count": 154,
   "metadata": {},
   "outputs": [],
   "source": [
    "driver = webdriver.Firefox()\n",
    "driver.get('https://www.amazon.de/s?i=electronics&bbn=3468301&rh=n%3A562066%2Cn%3A569604%2Cn%3A1384526031%2Cn%3A3468301%2Cp_89%3AHUAWEI&dc&page=5&fst=as%3Aoff&qid=1576861861&rnid=669059031&ref=sr_pg_5')\n"
   ]
  },
  {
   "cell_type": "code",
   "execution_count": 155,
   "metadata": {},
   "outputs": [],
   "source": [
    "soup = BeautifulSoup(driver.page_source, \"lxml\")\n",
    "boxes = soup.findAll(\"a\", attrs={'class' : 'a-link-normal a-text-normal'})"
   ]
  },
  {
   "cell_type": "code",
   "execution_count": 168,
   "metadata": {},
   "outputs": [],
   "source": [
    "b1 = boxes[4]"
   ]
  },
  {
   "cell_type": "code",
   "execution_count": 171,
   "metadata": {},
   "outputs": [
    {
     "data": {
      "text/plain": [
       "[]"
      ]
     },
     "execution_count": 171,
     "metadata": {},
     "output_type": "execute_result"
    }
   ],
   "source": [
    "b1.find_next_siblings()"
   ]
  },
  {
   "cell_type": "code",
   "execution_count": 48,
   "metadata": {},
   "outputs": [],
   "source": [
    "glossary = \"https://www.amazon.de/s/other?rh=n%3A562066%2Cn%3A%21569604%2Cn%3A1384526031%2Cn%3A3468301&pickerToList=lbr_brands_browse-bin&qid=1576592710&ref=sr_sa_p_89\"\n",
    "\n",
    "apple = 'https://www.amazon.de/s?bbn=3468301&rh=n%3A562066%2Cn%3A%21569604%2Cn%3A1384526031%2Cn%3A3468301%2Cp_89%3AApple&dc&fst=as%3Aoff&qid=1576771433&rnid=669059031&ref=sr_in_-2_p_89_4'\n",
    "google = 'https://www.amazon.de/s?bbn=3468301&rh=n%3A562066%2Cn%3A%21569604%2Cn%3A1384526031%2Cn%3A3468301%2Cp_89%3AGoogle&dc&fst=as%3Aoff&qid=1576771433&rnid=669059031&ref=sr_in_-2_p_89_16'\n",
    "htc = 'https://www.amazon.de/s?bbn=3468301&rh=n%3A562066%2Cn%3A%21569604%2Cn%3A1384526031%2Cn%3A3468301%2Cp_89%3AHTC&dc&fst=as%3Aoff&qid=1576771433&rnid=669059031&ref=sr_in_-2_p_89_19'\n",
    "huawei = 'https://www.amazon.de/s?bbn=3468301&rh=n%3A562066%2Cn%3A%21569604%2Cn%3A1384526031%2Cn%3A3468301%2Cp_89%3AHUAWEI&dc&fst=as%3Aoff&qid=1576771433&rnid=669059031&ref=sr_in_-2_p_89_20'\n",
    "lg = 'https://www.amazon.de/s?bbn=3468301&rh=n%3A562066%2Cn%3A%21569604%2Cn%3A1384526031%2Cn%3A3468301%2Cp_89%3ALG+Electronics&dc&fst=as%3Aoff&qid=1576771433&rnid=669059031&ref=sr_in_-2_p_89_23'\n",
    "moto = 'https://www.amazon.de/s?bbn=3468301&rh=n%3A562066%2Cn%3A%21569604%2Cn%3A1384526031%2Cn%3A3468301%2Cp_89%3AMotorola+Mobility&dc&fst=as%3Aoff&qid=1576771433&rnid=669059031&ref=sr_in_-2_p_89_24'\n",
    "nokia = 'https://www.amazon.de/s?bbn=3468301&rh=n%3A562066%2Cn%3A%21569604%2Cn%3A1384526031%2Cn%3A3468301%2Cp_89%3ANokia&dc&fst=as%3Aoff&qid=1576771433&rnid=669059031&ref=sr_in_-2_p_89_25'\n",
    "sony = 'https://www.amazon.de/s?bbn=3468301&rh=n%3A562066%2Cn%3A%21569604%2Cn%3A1384526031%2Cn%3A3468301%2Cp_89%3ASony&dc&fst=as%3Aoff&qid=1576771433&rnid=669059031&ref=sr_in_-2_p_89_36'\n",
    "xiaomi = 'https://www.amazon.de/s?bbn=3468301&rh=n%3A562066%2Cn%3A%21569604%2Cn%3A1384526031%2Cn%3A3468301%2Cp_89%3AXiaomi&dc&fst=as%3Aoff&qid=1576771433&rnid=669059031&ref=sr_in_-2_p_89_48'\n",
    "samsung = 'https://www.amazon.de/s?bbn=3468301&rh=n%3A562066%2Cn%3A%21569604%2Cn%3A1384526031%2Cn%3A3468301%2Cp_89%3ASamsung&dc&fst=as%3Aoff&qid=1576771433&rnid=669059031&ref=sr_in_-2_p_89_30'"
   ]
  },
  {
   "cell_type": "markdown",
   "metadata": {},
   "source": [
    "# Product link harvesting (new)"
   ]
  },
  {
   "cell_type": "code",
   "execution_count": 193,
   "metadata": {},
   "outputs": [
    {
     "name": "stdout",
     "output_type": "stream",
     "text": [
      "end of results, next button doesnt work\n",
      "end of results, next button doesnt work\n",
      "end of results, next button doesnt work\n",
      "no boxes found\n",
      "no boxes found\n",
      "end of results, next button doesnt work\n",
      "end of results, next button doesnt work\n",
      "no boxes found\n",
      "end of results, next button doesnt work\n",
      "end of results, next button doesnt work\n"
     ]
    }
   ],
   "source": [
    "driver = webdriver.Firefox()\n",
    "all_data = []\n",
    "\n",
    "for brand_url in [apple, google, htc, huawei, lg, moto, nokia, sony, xiaomi, samsung]:\n",
    "    driver.get(brand_url)\n",
    "    \n",
    "    while True:\n",
    "        time.sleep(random.randint(3, 9))\n",
    "        if 'last_url' in locals():\n",
    "            if driver.page_source == last_url:\n",
    "                print('end of results, next button doesnt work')\n",
    "                break\n",
    "        \n",
    "        soup = BeautifulSoup(driver.page_source, \"lxml\")\n",
    "        boxes = soup.findAll('span', attrs={'class' : re.compile('SEARCH_RESULTS')})\n",
    "        \n",
    "        if not boxes:\n",
    "            print(\"no boxes found\")\n",
    "            break\n",
    "            \n",
    "        for box in boxes:\n",
    "            \n",
    "            title = box.find(\"a\", attrs={'class' : 'a-link-normal a-text-normal'}).getText()\n",
    "            link = box.find(\"a\", attrs={'class' : 'a-link-normal a-text-normal'}).attrs['href']\n",
    "\n",
    "            reviews = box.find('a', attrs={'href' : re.compile('customerReviews')})\n",
    "\n",
    "            # to scrape ethically, we will not crawl products with no reviews or too few in vain\n",
    "\n",
    "            if reviews:\n",
    "                review_count = reviews.getText().strip()\n",
    "            else:\n",
    "                review_count = 0\n",
    "\n",
    "            part = [ (link, title, review_count, driver.current_url, i)]\n",
    "            all_data.extend(part)\n",
    "            \n",
    "        pd.DataFrame(all_data).to_csv('amazon_links_2.csv')\n",
    "        \n",
    "        nextpage = driver.find_element_by_class_name('a-last')\n",
    "        last_url = driver.page_source\n",
    "        nextpage.click()"
   ]
  },
  {
   "cell_type": "code",
   "execution_count": 194,
   "metadata": {},
   "outputs": [],
   "source": [
    "links = pd.DataFrame(all_data)\n",
    "links.columns = ['link', 'title', 'reviews', 'source', 'i']\n",
    "\n",
    "links = links[~links.link.str.lower().str.contains('tablet')]\n",
    "\n",
    "links.link = 'https://www.amazon.de' + links.link"
   ]
  },
  {
   "cell_type": "code",
   "execution_count": 204,
   "metadata": {},
   "outputs": [],
   "source": [
    "links.reviews = links.reviews.str.replace(',', '')#.apply(int)"
   ]
  },
  {
   "cell_type": "code",
   "execution_count": 212,
   "metadata": {},
   "outputs": [],
   "source": [
    "links.reviews.fillna(0, inplace=True)"
   ]
  },
  {
   "cell_type": "code",
   "execution_count": 216,
   "metadata": {
    "scrolled": true
   },
   "outputs": [],
   "source": [
    "links = links[links.reviews.apply(int) > 15]"
   ]
  },
  {
   "cell_type": "code",
   "execution_count": 217,
   "metadata": {},
   "outputs": [
    {
     "data": {
      "text/html": [
       "<div>\n",
       "<style scoped>\n",
       "    .dataframe tbody tr th:only-of-type {\n",
       "        vertical-align: middle;\n",
       "    }\n",
       "\n",
       "    .dataframe tbody tr th {\n",
       "        vertical-align: top;\n",
       "    }\n",
       "\n",
       "    .dataframe thead th {\n",
       "        text-align: right;\n",
       "    }\n",
       "</style>\n",
       "<table border=\"1\" class=\"dataframe\">\n",
       "  <thead>\n",
       "    <tr style=\"text-align: right;\">\n",
       "      <th></th>\n",
       "      <th>link</th>\n",
       "      <th>title</th>\n",
       "      <th>reviews</th>\n",
       "      <th>source</th>\n",
       "      <th>i</th>\n",
       "    </tr>\n",
       "  </thead>\n",
       "  <tbody>\n",
       "    <tr>\n",
       "      <th>0</th>\n",
       "      <td>https://www.amazon.de/Apple-iPhone-11-128-GB-W...</td>\n",
       "      <td>\\nApple iPhone 11 (128 GB) - Weiß\\n</td>\n",
       "      <td>342</td>\n",
       "      <td>https://www.amazon.de/s?bbn=3468301&amp;rh=n%3A562...</td>\n",
       "      <td>68</td>\n",
       "    </tr>\n",
       "    <tr>\n",
       "      <th>1</th>\n",
       "      <td>https://www.amazon.de/Apple-iPhone-Pro-256-GB-...</td>\n",
       "      <td>\\nApple iPhone 11 Pro (256 GB) - Nachtgrün\\n</td>\n",
       "      <td>139</td>\n",
       "      <td>https://www.amazon.de/s?bbn=3468301&amp;rh=n%3A562...</td>\n",
       "      <td>68</td>\n",
       "    </tr>\n",
       "    <tr>\n",
       "      <th>2</th>\n",
       "      <td>https://www.amazon.de/Apple-iPhone-11-128-GB-P...</td>\n",
       "      <td>\\nApple iPhone 11 (128 GB) - (PRODUCT)RED\\n</td>\n",
       "      <td>342</td>\n",
       "      <td>https://www.amazon.de/s?bbn=3468301&amp;rh=n%3A562...</td>\n",
       "      <td>68</td>\n",
       "    </tr>\n",
       "    <tr>\n",
       "      <th>3</th>\n",
       "      <td>https://www.amazon.de/Apple-iPhone-11-Pro-256-...</td>\n",
       "      <td>\\nApple iPhone 11 Pro (256 GB) - Space Grau\\n</td>\n",
       "      <td>139</td>\n",
       "      <td>https://www.amazon.de/s?bbn=3468301&amp;rh=n%3A562...</td>\n",
       "      <td>68</td>\n",
       "    </tr>\n",
       "    <tr>\n",
       "      <th>4</th>\n",
       "      <td>https://www.amazon.de/Apple-iPhone-11-64-GB-Sc...</td>\n",
       "      <td>\\nApple iPhone 11 (64 GB) - Schwarz\\n</td>\n",
       "      <td>342</td>\n",
       "      <td>https://www.amazon.de/s?bbn=3468301&amp;rh=n%3A562...</td>\n",
       "      <td>68</td>\n",
       "    </tr>\n",
       "  </tbody>\n",
       "</table>\n",
       "</div>"
      ],
      "text/plain": [
       "                                                link  \\\n",
       "0  https://www.amazon.de/Apple-iPhone-11-128-GB-W...   \n",
       "1  https://www.amazon.de/Apple-iPhone-Pro-256-GB-...   \n",
       "2  https://www.amazon.de/Apple-iPhone-11-128-GB-P...   \n",
       "3  https://www.amazon.de/Apple-iPhone-11-Pro-256-...   \n",
       "4  https://www.amazon.de/Apple-iPhone-11-64-GB-Sc...   \n",
       "\n",
       "                                           title reviews  \\\n",
       "0            \\nApple iPhone 11 (128 GB) - Weiß\\n     342   \n",
       "1   \\nApple iPhone 11 Pro (256 GB) - Nachtgrün\\n     139   \n",
       "2    \\nApple iPhone 11 (128 GB) - (PRODUCT)RED\\n     342   \n",
       "3  \\nApple iPhone 11 Pro (256 GB) - Space Grau\\n     139   \n",
       "4          \\nApple iPhone 11 (64 GB) - Schwarz\\n     342   \n",
       "\n",
       "                                              source   i  \n",
       "0  https://www.amazon.de/s?bbn=3468301&rh=n%3A562...  68  \n",
       "1  https://www.amazon.de/s?bbn=3468301&rh=n%3A562...  68  \n",
       "2  https://www.amazon.de/s?bbn=3468301&rh=n%3A562...  68  \n",
       "3  https://www.amazon.de/s?bbn=3468301&rh=n%3A562...  68  \n",
       "4  https://www.amazon.de/s?bbn=3468301&rh=n%3A562...  68  "
      ]
     },
     "execution_count": 217,
     "metadata": {},
     "output_type": "execute_result"
    }
   ],
   "source": [
    "links.head()"
   ]
  },
  {
   "cell_type": "code",
   "execution_count": 218,
   "metadata": {},
   "outputs": [],
   "source": [
    "links.to_csv('amazon_links_2_slimmed.csv')"
   ]
  },
  {
   "cell_type": "markdown",
   "metadata": {},
   "source": [
    "# Price and Review harvesting"
   ]
  },
  {
   "cell_type": "code",
   "execution_count": null,
   "metadata": {},
   "outputs": [],
   "source": [
    "driver = webdriver.Firefox()\n",
    "prod_data = []\n",
    "bad_urls = []\n",
    "\n",
    "all_links = links.link.tolist()\n",
    "shuffle(all_links)\n",
    "all_links = list(set(all_links))\n",
    "\n",
    "for url in all_links:\n",
    "    try:\n",
    "        driver.get(url)\n",
    "        time.sleep(random.randint(3, 9))\n",
    "        soup = BeautifulSoup(driver.page_source, 'lxml')\n",
    "\n",
    "        avg = soup.find('div', attrs={'class' : 'a-fixed-left-grid AverageCustomerReviews a-spacing-small'})\n",
    "\n",
    "        # no reviews\n",
    "        if not avg:\n",
    "            print(url)\n",
    "            bad_urls.append(url)\n",
    "            continue\n",
    "\n",
    "        avg_rating = avg.find('span', attrs={'class' : 'a-size-medium a-color-base'}).getText()\n",
    "\n",
    "        hist = soup.find('table', attrs={'id' : 'histogramTable'})\n",
    "        hist_txt = str(hist.findNextSiblings()[0])\n",
    "        distr = list(set(re.findall(\"([0-9]+)% der Rezensionen haben (\\d) Sterne\", hist_txt)))\n",
    "        #review_count = re.findall( '([0-9]+) Sternebewertungen', driver.page_source)\n",
    "        review_count = soup.find('div', attrs={'data-hook' : 'total-review-count'}).getText().strip()\n",
    "\n",
    "\n",
    "        pricebox = soup.find('div', attrs={'id' : 'price'})\n",
    "        try:\n",
    "            price = pricebox.find('span', attrs={'class': 'a-size-medium a-color-price priceBlockBuyingPriceString'}).getText()\n",
    "            price_type = 'official'\n",
    "        except:\n",
    "            try:\n",
    "                price = soup.find(text=re.compile(\"Neu \\([0-9]+\\) ab\")).findNext().getText()\n",
    "                price_type = '3rd party'\n",
    "            except:\n",
    "                print(url)\n",
    "                bad_urls.append(url)\n",
    "                continue\n",
    "\n",
    "        title = soup.find('span', attrs={'id' : 'productTitle'}).getText().strip()\n",
    "\n",
    "        one = [distr, review_count, avg_rating, price, price_type, title, url]\n",
    "        prod_data.append(one)\n",
    "\n",
    "        pd.DataFrame(prod_data).to_excel('product_data.xlsx')\n",
    "    except Exception as e:\n",
    "        print(e, url)"
   ]
  },
  {
   "cell_type": "code",
   "execution_count": 458,
   "metadata": {},
   "outputs": [],
   "source": [
    "df = pd.DataFrame(prod_data, columns=['star_hist', 'rev_count', 'avg_rev', 'price', 'price_cat', 'title', 'link', ])"
   ]
  },
  {
   "cell_type": "code",
   "execution_count": 228,
   "metadata": {},
   "outputs": [],
   "source": [
    "df.to_pickle('amazon_data.pkl')"
   ]
  },
  {
   "cell_type": "code",
   "execution_count": 2,
   "metadata": {},
   "outputs": [],
   "source": [
    "df = pd.read_pickle('amazon_data.pkl')"
   ]
  },
  {
   "cell_type": "markdown",
   "metadata": {},
   "source": [
    "# Data cleaning"
   ]
  },
  {
   "cell_type": "code",
   "execution_count": 3,
   "metadata": {},
   "outputs": [
    {
     "data": {
      "text/html": [
       "<div>\n",
       "<style scoped>\n",
       "    .dataframe tbody tr th:only-of-type {\n",
       "        vertical-align: middle;\n",
       "    }\n",
       "\n",
       "    .dataframe tbody tr th {\n",
       "        vertical-align: top;\n",
       "    }\n",
       "\n",
       "    .dataframe thead th {\n",
       "        text-align: right;\n",
       "    }\n",
       "</style>\n",
       "<table border=\"1\" class=\"dataframe\">\n",
       "  <thead>\n",
       "    <tr style=\"text-align: right;\">\n",
       "      <th></th>\n",
       "      <th>star_hist</th>\n",
       "      <th>rev_count</th>\n",
       "      <th>avg_rev</th>\n",
       "      <th>price</th>\n",
       "      <th>price_cat</th>\n",
       "      <th>title</th>\n",
       "      <th>link</th>\n",
       "    </tr>\n",
       "  </thead>\n",
       "  <tbody>\n",
       "    <tr>\n",
       "      <th>0</th>\n",
       "      <td>[(6, 3), (21, 1), (14, 4), (7, 2), (53, 5)]</td>\n",
       "      <td>742 Sternebewertungen</td>\n",
       "      <td>3,7 von 5</td>\n",
       "      <td>269,99 €</td>\n",
       "      <td>official</td>\n",
       "      <td>Apple iPhone 7 128GB Roségold (Generalüberholt)</td>\n",
       "      <td>https://www.amazon.de/Apple-iPhone-SIM-Free-Ro...</td>\n",
       "    </tr>\n",
       "    <tr>\n",
       "      <th>1</th>\n",
       "      <td>[(23, 3), (18, 2), (19, 4), (22, 5), (18, 1)]</td>\n",
       "      <td>27 Sternebewertungen</td>\n",
       "      <td>3,1 von 5</td>\n",
       "      <td>199,90 €</td>\n",
       "      <td>official</td>\n",
       "      <td>HTC Rhyme Smartphone (9.4 cm (3.7 Zoll) Touchs...</td>\n",
       "      <td>https://www.amazon.de/HTC-Smartphone-Touchscre...</td>\n",
       "    </tr>\n",
       "    <tr>\n",
       "      <th>2</th>\n",
       "      <td>[(7, 3), (4, 2), (59, 5), (12, 4), (18, 1)]</td>\n",
       "      <td>36 Sternebewertungen</td>\n",
       "      <td>3,9 von 5</td>\n",
       "      <td>330,19 €</td>\n",
       "      <td>official</td>\n",
       "      <td>Samsung Galaxy S8+ Smartphone (6,2 Zoll (15,8 ...</td>\n",
       "      <td>https://www.amazon.de/Samsung-Smartphone-Touch...</td>\n",
       "    </tr>\n",
       "    <tr>\n",
       "      <th>3</th>\n",
       "      <td>[(13, 1), (8, 3), (4, 2), (15, 4), (59, 5)]</td>\n",
       "      <td>86 Sternebewertungen</td>\n",
       "      <td>4 von 5</td>\n",
       "      <td>349,90 €</td>\n",
       "      <td>official</td>\n",
       "      <td>Samsung Galaxy S III Neo Smartphone (4,8 Zoll ...</td>\n",
       "      <td>https://www.amazon.de/Samsung-Smartphone-Touch...</td>\n",
       "    </tr>\n",
       "    <tr>\n",
       "      <th>4</th>\n",
       "      <td>[(13, 4), (16, 1), (64, 5), (3, 2), (3, 3)]</td>\n",
       "      <td>54 Sternebewertungen</td>\n",
       "      <td>4,1 von 5</td>\n",
       "      <td>527,12 €</td>\n",
       "      <td>official</td>\n",
       "      <td>Apple iPhone 8 Plus 256GB Space Grau (Generalü...</td>\n",
       "      <td>https://www.amazon.de/Apple-iPhone-Display-SIM...</td>\n",
       "    </tr>\n",
       "  </tbody>\n",
       "</table>\n",
       "</div>"
      ],
      "text/plain": [
       "                                       star_hist              rev_count  \\\n",
       "0    [(6, 3), (21, 1), (14, 4), (7, 2), (53, 5)]  742 Sternebewertungen   \n",
       "1  [(23, 3), (18, 2), (19, 4), (22, 5), (18, 1)]   27 Sternebewertungen   \n",
       "2    [(7, 3), (4, 2), (59, 5), (12, 4), (18, 1)]   36 Sternebewertungen   \n",
       "3    [(13, 1), (8, 3), (4, 2), (15, 4), (59, 5)]   86 Sternebewertungen   \n",
       "4    [(13, 4), (16, 1), (64, 5), (3, 2), (3, 3)]   54 Sternebewertungen   \n",
       "\n",
       "     avg_rev     price price_cat  \\\n",
       "0  3,7 von 5  269,99 €  official   \n",
       "1  3,1 von 5  199,90 €  official   \n",
       "2  3,9 von 5  330,19 €  official   \n",
       "3    4 von 5  349,90 €  official   \n",
       "4  4,1 von 5  527,12 €  official   \n",
       "\n",
       "                                               title  \\\n",
       "0    Apple iPhone 7 128GB Roségold (Generalüberholt)   \n",
       "1  HTC Rhyme Smartphone (9.4 cm (3.7 Zoll) Touchs...   \n",
       "2  Samsung Galaxy S8+ Smartphone (6,2 Zoll (15,8 ...   \n",
       "3  Samsung Galaxy S III Neo Smartphone (4,8 Zoll ...   \n",
       "4  Apple iPhone 8 Plus 256GB Space Grau (Generalü...   \n",
       "\n",
       "                                                link  \n",
       "0  https://www.amazon.de/Apple-iPhone-SIM-Free-Ro...  \n",
       "1  https://www.amazon.de/HTC-Smartphone-Touchscre...  \n",
       "2  https://www.amazon.de/Samsung-Smartphone-Touch...  \n",
       "3  https://www.amazon.de/Samsung-Smartphone-Touch...  \n",
       "4  https://www.amazon.de/Apple-iPhone-Display-SIM...  "
      ]
     },
     "execution_count": 3,
     "metadata": {},
     "output_type": "execute_result"
    }
   ],
   "source": [
    "df.head()"
   ]
  },
  {
   "cell_type": "code",
   "execution_count": 4,
   "metadata": {},
   "outputs": [],
   "source": [
    "df.rev_count = df.rev_count.str.split().str[0].str.replace('.', '').apply(int)"
   ]
  },
  {
   "cell_type": "code",
   "execution_count": 5,
   "metadata": {},
   "outputs": [],
   "source": [
    "df = df[df.price != '']"
   ]
  },
  {
   "cell_type": "code",
   "execution_count": 6,
   "metadata": {},
   "outputs": [],
   "source": [
    "df.price = df.price.str.replace('\\s€|\\.', '').str.replace(',', '.').apply(float).round(0)"
   ]
  },
  {
   "cell_type": "code",
   "execution_count": 7,
   "metadata": {},
   "outputs": [
    {
     "data": {
      "text/html": [
       "<div>\n",
       "<style scoped>\n",
       "    .dataframe tbody tr th:only-of-type {\n",
       "        vertical-align: middle;\n",
       "    }\n",
       "\n",
       "    .dataframe tbody tr th {\n",
       "        vertical-align: top;\n",
       "    }\n",
       "\n",
       "    .dataframe thead th {\n",
       "        text-align: right;\n",
       "    }\n",
       "</style>\n",
       "<table border=\"1\" class=\"dataframe\">\n",
       "  <thead>\n",
       "    <tr style=\"text-align: right;\">\n",
       "      <th></th>\n",
       "      <th>star_hist</th>\n",
       "      <th>rev_count</th>\n",
       "      <th>avg_rev</th>\n",
       "      <th>price</th>\n",
       "      <th>price_cat</th>\n",
       "      <th>title</th>\n",
       "      <th>link</th>\n",
       "    </tr>\n",
       "  </thead>\n",
       "  <tbody>\n",
       "    <tr>\n",
       "      <th>0</th>\n",
       "      <td>[(6, 3), (21, 1), (14, 4), (7, 2), (53, 5)]</td>\n",
       "      <td>742</td>\n",
       "      <td>3,7 von 5</td>\n",
       "      <td>270.0</td>\n",
       "      <td>official</td>\n",
       "      <td>Apple iPhone 7 128GB Roségold (Generalüberholt)</td>\n",
       "      <td>https://www.amazon.de/Apple-iPhone-SIM-Free-Ro...</td>\n",
       "    </tr>\n",
       "    <tr>\n",
       "      <th>1</th>\n",
       "      <td>[(23, 3), (18, 2), (19, 4), (22, 5), (18, 1)]</td>\n",
       "      <td>27</td>\n",
       "      <td>3,1 von 5</td>\n",
       "      <td>200.0</td>\n",
       "      <td>official</td>\n",
       "      <td>HTC Rhyme Smartphone (9.4 cm (3.7 Zoll) Touchs...</td>\n",
       "      <td>https://www.amazon.de/HTC-Smartphone-Touchscre...</td>\n",
       "    </tr>\n",
       "    <tr>\n",
       "      <th>2</th>\n",
       "      <td>[(7, 3), (4, 2), (59, 5), (12, 4), (18, 1)]</td>\n",
       "      <td>36</td>\n",
       "      <td>3,9 von 5</td>\n",
       "      <td>330.0</td>\n",
       "      <td>official</td>\n",
       "      <td>Samsung Galaxy S8+ Smartphone (6,2 Zoll (15,8 ...</td>\n",
       "      <td>https://www.amazon.de/Samsung-Smartphone-Touch...</td>\n",
       "    </tr>\n",
       "    <tr>\n",
       "      <th>3</th>\n",
       "      <td>[(13, 1), (8, 3), (4, 2), (15, 4), (59, 5)]</td>\n",
       "      <td>86</td>\n",
       "      <td>4 von 5</td>\n",
       "      <td>350.0</td>\n",
       "      <td>official</td>\n",
       "      <td>Samsung Galaxy S III Neo Smartphone (4,8 Zoll ...</td>\n",
       "      <td>https://www.amazon.de/Samsung-Smartphone-Touch...</td>\n",
       "    </tr>\n",
       "    <tr>\n",
       "      <th>4</th>\n",
       "      <td>[(13, 4), (16, 1), (64, 5), (3, 2), (3, 3)]</td>\n",
       "      <td>54</td>\n",
       "      <td>4,1 von 5</td>\n",
       "      <td>527.0</td>\n",
       "      <td>official</td>\n",
       "      <td>Apple iPhone 8 Plus 256GB Space Grau (Generalü...</td>\n",
       "      <td>https://www.amazon.de/Apple-iPhone-Display-SIM...</td>\n",
       "    </tr>\n",
       "  </tbody>\n",
       "</table>\n",
       "</div>"
      ],
      "text/plain": [
       "                                       star_hist  rev_count    avg_rev  price  \\\n",
       "0    [(6, 3), (21, 1), (14, 4), (7, 2), (53, 5)]        742  3,7 von 5  270.0   \n",
       "1  [(23, 3), (18, 2), (19, 4), (22, 5), (18, 1)]         27  3,1 von 5  200.0   \n",
       "2    [(7, 3), (4, 2), (59, 5), (12, 4), (18, 1)]         36  3,9 von 5  330.0   \n",
       "3    [(13, 1), (8, 3), (4, 2), (15, 4), (59, 5)]         86    4 von 5  350.0   \n",
       "4    [(13, 4), (16, 1), (64, 5), (3, 2), (3, 3)]         54  4,1 von 5  527.0   \n",
       "\n",
       "  price_cat                                              title  \\\n",
       "0  official    Apple iPhone 7 128GB Roségold (Generalüberholt)   \n",
       "1  official  HTC Rhyme Smartphone (9.4 cm (3.7 Zoll) Touchs...   \n",
       "2  official  Samsung Galaxy S8+ Smartphone (6,2 Zoll (15,8 ...   \n",
       "3  official  Samsung Galaxy S III Neo Smartphone (4,8 Zoll ...   \n",
       "4  official  Apple iPhone 8 Plus 256GB Space Grau (Generalü...   \n",
       "\n",
       "                                                link  \n",
       "0  https://www.amazon.de/Apple-iPhone-SIM-Free-Ro...  \n",
       "1  https://www.amazon.de/HTC-Smartphone-Touchscre...  \n",
       "2  https://www.amazon.de/Samsung-Smartphone-Touch...  \n",
       "3  https://www.amazon.de/Samsung-Smartphone-Touch...  \n",
       "4  https://www.amazon.de/Apple-iPhone-Display-SIM...  "
      ]
     },
     "execution_count": 7,
     "metadata": {},
     "output_type": "execute_result"
    }
   ],
   "source": [
    "df.head()"
   ]
  },
  {
   "cell_type": "code",
   "execution_count": 8,
   "metadata": {},
   "outputs": [],
   "source": [
    "df.avg_rev = df.avg_rev.str.split(' von').str[0].str.replace(',', '.').apply(float)"
   ]
  },
  {
   "cell_type": "code",
   "execution_count": 9,
   "metadata": {},
   "outputs": [],
   "source": [
    "df['brand'] = df.title.str.strip().str.lower().str.split().str[0]"
   ]
  },
  {
   "cell_type": "code",
   "execution_count": 10,
   "metadata": {},
   "outputs": [
    {
     "data": {
      "text/plain": [
       "samsung      326\n",
       "apple        169\n",
       "huawei       134\n",
       "sony          89\n",
       "nokia         89\n",
       "xiaomi        79\n",
       "htc           60\n",
       "motorola      36\n",
       "lg            10\n",
       "moto           6\n",
       "google         4\n",
       "honor          3\n",
       "pocophone      3\n",
       "mi             2\n",
       "mobile         1\n",
       "​samsung       1\n",
       "'samsung       1\n",
       "microsoft      1\n",
       "nokia-130      1\n",
       "Name: brand, dtype: int64"
      ]
     },
     "execution_count": 10,
     "metadata": {},
     "output_type": "execute_result"
    }
   ],
   "source": [
    "df.brand.value_counts()"
   ]
  },
  {
   "cell_type": "code",
   "execution_count": 11,
   "metadata": {},
   "outputs": [
    {
     "data": {
      "text/plain": [
       "Index(['samsung', 'apple', 'huawei', 'sony', 'nokia', 'xiaomi', 'htc',\n",
       "       'motorola', 'lg', 'moto'],\n",
       "      dtype='object')"
      ]
     },
     "execution_count": 11,
     "metadata": {},
     "output_type": "execute_result"
    }
   ],
   "source": [
    "df.brand.value_counts().index[:10]"
   ]
  },
  {
   "cell_type": "code",
   "execution_count": 12,
   "metadata": {},
   "outputs": [],
   "source": [
    "df = df[df.brand.isin(df.brand.value_counts().index[:10])]"
   ]
  },
  {
   "cell_type": "code",
   "execution_count": 13,
   "metadata": {},
   "outputs": [],
   "source": [
    "df.brand = df.brand.apply(lambda x: 'motorola' if x == 'moto' else x)"
   ]
  },
  {
   "cell_type": "code",
   "execution_count": 14,
   "metadata": {},
   "outputs": [],
   "source": [
    "for col in ['share_1', 'share_2', 'share_3', 'share_4', 'share_5']:\n",
    "    df[col] = None"
   ]
  },
  {
   "cell_type": "code",
   "execution_count": 15,
   "metadata": {},
   "outputs": [
    {
     "data": {
      "text/html": [
       "<div>\n",
       "<style scoped>\n",
       "    .dataframe tbody tr th:only-of-type {\n",
       "        vertical-align: middle;\n",
       "    }\n",
       "\n",
       "    .dataframe tbody tr th {\n",
       "        vertical-align: top;\n",
       "    }\n",
       "\n",
       "    .dataframe thead th {\n",
       "        text-align: right;\n",
       "    }\n",
       "</style>\n",
       "<table border=\"1\" class=\"dataframe\">\n",
       "  <thead>\n",
       "    <tr style=\"text-align: right;\">\n",
       "      <th></th>\n",
       "      <th>star_hist</th>\n",
       "      <th>rev_count</th>\n",
       "      <th>avg_rev</th>\n",
       "      <th>price</th>\n",
       "      <th>price_cat</th>\n",
       "      <th>title</th>\n",
       "      <th>link</th>\n",
       "      <th>brand</th>\n",
       "      <th>share_1</th>\n",
       "      <th>share_2</th>\n",
       "      <th>share_3</th>\n",
       "      <th>share_4</th>\n",
       "      <th>share_5</th>\n",
       "    </tr>\n",
       "  </thead>\n",
       "  <tbody>\n",
       "    <tr>\n",
       "      <th>0</th>\n",
       "      <td>[(6, 3), (21, 1), (14, 4), (7, 2), (53, 5)]</td>\n",
       "      <td>742</td>\n",
       "      <td>3.7</td>\n",
       "      <td>270.0</td>\n",
       "      <td>official</td>\n",
       "      <td>Apple iPhone 7 128GB Roségold (Generalüberholt)</td>\n",
       "      <td>https://www.amazon.de/Apple-iPhone-SIM-Free-Ro...</td>\n",
       "      <td>apple</td>\n",
       "      <td>None</td>\n",
       "      <td>None</td>\n",
       "      <td>None</td>\n",
       "      <td>None</td>\n",
       "      <td>None</td>\n",
       "    </tr>\n",
       "    <tr>\n",
       "      <th>1</th>\n",
       "      <td>[(23, 3), (18, 2), (19, 4), (22, 5), (18, 1)]</td>\n",
       "      <td>27</td>\n",
       "      <td>3.1</td>\n",
       "      <td>200.0</td>\n",
       "      <td>official</td>\n",
       "      <td>HTC Rhyme Smartphone (9.4 cm (3.7 Zoll) Touchs...</td>\n",
       "      <td>https://www.amazon.de/HTC-Smartphone-Touchscre...</td>\n",
       "      <td>htc</td>\n",
       "      <td>None</td>\n",
       "      <td>None</td>\n",
       "      <td>None</td>\n",
       "      <td>None</td>\n",
       "      <td>None</td>\n",
       "    </tr>\n",
       "  </tbody>\n",
       "</table>\n",
       "</div>"
      ],
      "text/plain": [
       "                                       star_hist  rev_count  avg_rev  price  \\\n",
       "0    [(6, 3), (21, 1), (14, 4), (7, 2), (53, 5)]        742      3.7  270.0   \n",
       "1  [(23, 3), (18, 2), (19, 4), (22, 5), (18, 1)]         27      3.1  200.0   \n",
       "\n",
       "  price_cat                                              title  \\\n",
       "0  official    Apple iPhone 7 128GB Roségold (Generalüberholt)   \n",
       "1  official  HTC Rhyme Smartphone (9.4 cm (3.7 Zoll) Touchs...   \n",
       "\n",
       "                                                link  brand share_1 share_2  \\\n",
       "0  https://www.amazon.de/Apple-iPhone-SIM-Free-Ro...  apple    None    None   \n",
       "1  https://www.amazon.de/HTC-Smartphone-Touchscre...    htc    None    None   \n",
       "\n",
       "  share_3 share_4 share_5  \n",
       "0    None    None    None  \n",
       "1    None    None    None  "
      ]
     },
     "execution_count": 15,
     "metadata": {},
     "output_type": "execute_result"
    }
   ],
   "source": [
    "df.head(2)"
   ]
  },
  {
   "cell_type": "code",
   "execution_count": 16,
   "metadata": {},
   "outputs": [],
   "source": [
    "\n",
    "def extract_shares(row):\n",
    "    for item in row['star_hist']:\n",
    "        star = str(item[1])\n",
    "        row['share_' + star] = int(item[0])\n",
    "    return row\n",
    "\n",
    "df = df.apply(extract_shares, axis=1)"
   ]
  },
  {
   "cell_type": "code",
   "execution_count": 17,
   "metadata": {},
   "outputs": [],
   "source": [
    "df[['share_1', 'share_2', 'share_3', 'share_4', 'share_5']].fillna(0, inplace=True)"
   ]
  },
  {
   "cell_type": "code",
   "execution_count": 18,
   "metadata": {},
   "outputs": [],
   "source": [
    "df['share_positive'] = df['share_4'] + df['share_5']\n",
    "df['share_negative'] = df['share_1'] + df['share_2']"
   ]
  },
  {
   "cell_type": "code",
   "execution_count": 19,
   "metadata": {},
   "outputs": [
    {
     "data": {
      "text/html": [
       "<div>\n",
       "<style scoped>\n",
       "    .dataframe tbody tr th:only-of-type {\n",
       "        vertical-align: middle;\n",
       "    }\n",
       "\n",
       "    .dataframe tbody tr th {\n",
       "        vertical-align: top;\n",
       "    }\n",
       "\n",
       "    .dataframe thead th {\n",
       "        text-align: right;\n",
       "    }\n",
       "</style>\n",
       "<table border=\"1\" class=\"dataframe\">\n",
       "  <thead>\n",
       "    <tr style=\"text-align: right;\">\n",
       "      <th></th>\n",
       "      <th>star_hist</th>\n",
       "      <th>rev_count</th>\n",
       "      <th>avg_rev</th>\n",
       "      <th>price</th>\n",
       "      <th>price_cat</th>\n",
       "      <th>title</th>\n",
       "      <th>link</th>\n",
       "      <th>brand</th>\n",
       "      <th>share_1</th>\n",
       "      <th>share_2</th>\n",
       "      <th>share_3</th>\n",
       "      <th>share_4</th>\n",
       "      <th>share_5</th>\n",
       "      <th>share_positive</th>\n",
       "      <th>share_negative</th>\n",
       "    </tr>\n",
       "  </thead>\n",
       "  <tbody>\n",
       "    <tr>\n",
       "      <th>0</th>\n",
       "      <td>[(6, 3), (21, 1), (14, 4), (7, 2), (53, 5)]</td>\n",
       "      <td>742</td>\n",
       "      <td>3.7</td>\n",
       "      <td>270.0</td>\n",
       "      <td>official</td>\n",
       "      <td>Apple iPhone 7 128GB Roségold (Generalüberholt)</td>\n",
       "      <td>https://www.amazon.de/Apple-iPhone-SIM-Free-Ro...</td>\n",
       "      <td>apple</td>\n",
       "      <td>21.0</td>\n",
       "      <td>7.0</td>\n",
       "      <td>6.0</td>\n",
       "      <td>14.0</td>\n",
       "      <td>53</td>\n",
       "      <td>67.0</td>\n",
       "      <td>28.0</td>\n",
       "    </tr>\n",
       "    <tr>\n",
       "      <th>1</th>\n",
       "      <td>[(23, 3), (18, 2), (19, 4), (22, 5), (18, 1)]</td>\n",
       "      <td>27</td>\n",
       "      <td>3.1</td>\n",
       "      <td>200.0</td>\n",
       "      <td>official</td>\n",
       "      <td>HTC Rhyme Smartphone (9.4 cm (3.7 Zoll) Touchs...</td>\n",
       "      <td>https://www.amazon.de/HTC-Smartphone-Touchscre...</td>\n",
       "      <td>htc</td>\n",
       "      <td>18.0</td>\n",
       "      <td>18.0</td>\n",
       "      <td>23.0</td>\n",
       "      <td>19.0</td>\n",
       "      <td>22</td>\n",
       "      <td>41.0</td>\n",
       "      <td>36.0</td>\n",
       "    </tr>\n",
       "  </tbody>\n",
       "</table>\n",
       "</div>"
      ],
      "text/plain": [
       "                                       star_hist  rev_count  avg_rev  price  \\\n",
       "0    [(6, 3), (21, 1), (14, 4), (7, 2), (53, 5)]        742      3.7  270.0   \n",
       "1  [(23, 3), (18, 2), (19, 4), (22, 5), (18, 1)]         27      3.1  200.0   \n",
       "\n",
       "  price_cat                                              title  \\\n",
       "0  official    Apple iPhone 7 128GB Roségold (Generalüberholt)   \n",
       "1  official  HTC Rhyme Smartphone (9.4 cm (3.7 Zoll) Touchs...   \n",
       "\n",
       "                                                link  brand  share_1  share_2  \\\n",
       "0  https://www.amazon.de/Apple-iPhone-SIM-Free-Ro...  apple     21.0      7.0   \n",
       "1  https://www.amazon.de/HTC-Smartphone-Touchscre...    htc     18.0     18.0   \n",
       "\n",
       "   share_3  share_4  share_5  share_positive  share_negative  \n",
       "0      6.0     14.0       53            67.0            28.0  \n",
       "1     23.0     19.0       22            41.0            36.0  "
      ]
     },
     "execution_count": 19,
     "metadata": {},
     "output_type": "execute_result"
    }
   ],
   "source": [
    "df.head(2)"
   ]
  },
  {
   "cell_type": "code",
   "execution_count": 20,
   "metadata": {},
   "outputs": [],
   "source": [
    "df = df[~df.share_positive.isnull()]"
   ]
  },
  {
   "cell_type": "code",
   "execution_count": 21,
   "metadata": {},
   "outputs": [],
   "source": [
    "df.to_pickle('amazon_clean.pkl')"
   ]
  },
  {
   "cell_type": "markdown",
   "metadata": {},
   "source": [
    "# Visualizing the price - quality relationship"
   ]
  },
  {
   "cell_type": "code",
   "execution_count": 22,
   "metadata": {},
   "outputs": [],
   "source": [
    "import seaborn as sns"
   ]
  },
  {
   "cell_type": "code",
   "execution_count": 271,
   "metadata": {},
   "outputs": [
    {
     "data": {
      "image/png": "[encoded data removed]",
      "text/plain": [
       "<Figure size 432x288 with 1 Axes>"
      ]
     },
     "metadata": {
      "needs_background": "light"
     },
     "output_type": "display_data"
    }
   ],
   "source": [
    "plt.figure()\n",
    "sns.regplot(df.price, df.share_positive, line_kws={'color':'orange'}, order=2);"
   ]
  },
  {
   "cell_type": "code",
   "execution_count": 429,
   "metadata": {},
   "outputs": [],
   "source": [
    "# It looks like the two variables are correlated, but up to a certain point.\n",
    "# This means, there is an optimal price you should pay (but no more) to get the most out of your buck."
   ]
  },
  {
   "cell_type": "code",
   "execution_count": 28,
   "metadata": {},
   "outputs": [
    {
     "data": {
      "image/png": "[encoded data removed]",
      "text/plain": [
       "<Figure size 576x1440 with 9 Axes>"
      ]
     },
     "metadata": {
      "needs_background": "light"
     },
     "output_type": "display_data"
    }
   ],
   "source": [
    "g = sns.FacetGrid(df, col=\"brand\", col_wrap=2, height=4, ylim=(0, 140))\n",
    "g.map(sns.regplot, 'price', 'share_positive', line_kws={'color':'orange'}, order=2)\n",
    "\n",
    "for ax in g.axes.flat:\n",
    "    _ = plt.setp(ax.get_xticklabels(), visible=True)"
   ]
  },
  {
   "cell_type": "code",
   "execution_count": 489,
   "metadata": {},
   "outputs": [],
   "source": [
    "from scipy.stats import pearsonr\n",
    "\n",
    "corrs = []\n",
    "\n",
    "for brand in df.brand.unique():\n",
    "    temp = df[df.brand == brand]\n",
    "    corr, _ = pearsonr(temp.price, temp.share_positive)\n",
    "    corrs.append([brand, corr])\n",
    "\n",
    "cor_df = pd.DataFrame(corrs, columns=['brand', 'correlation']).sort_values(by='correlation', ascending=False)\n"
   ]
  },
  {
   "cell_type": "code",
   "execution_count": 491,
   "metadata": {},
   "outputs": [],
   "source": [
    "def get_buckets(val):\n",
    "    if abs(val) > 0.5:\n",
    "        return 'STRONG'\n",
    "    if abs(val) > 0.3:\n",
    "        return 'MODERATE'\n",
    "    else:\n",
    "        return 'NO RELATIONSHIP'"
   ]
  },
  {
   "cell_type": "code",
   "execution_count": 493,
   "metadata": {},
   "outputs": [],
   "source": [
    "cor_df['relationship'] = cor_df.correlation.apply(get_buckets)"
   ]
  },
  {
   "cell_type": "code",
   "execution_count": 494,
   "metadata": {
    "scrolled": true
   },
   "outputs": [
    {
     "data": {
      "text/html": [
       "<div>\n",
       "<style scoped>\n",
       "    .dataframe tbody tr th:only-of-type {\n",
       "        vertical-align: middle;\n",
       "    }\n",
       "\n",
       "    .dataframe tbody tr th {\n",
       "        vertical-align: top;\n",
       "    }\n",
       "\n",
       "    .dataframe thead th {\n",
       "        text-align: right;\n",
       "    }\n",
       "</style>\n",
       "<table border=\"1\" class=\"dataframe\">\n",
       "  <thead>\n",
       "    <tr style=\"text-align: right;\">\n",
       "      <th></th>\n",
       "      <th>brand</th>\n",
       "      <th>correlation</th>\n",
       "      <th>relationship</th>\n",
       "    </tr>\n",
       "  </thead>\n",
       "  <tbody>\n",
       "    <tr>\n",
       "      <th>0</th>\n",
       "      <td>apple</td>\n",
       "      <td>0.760626</td>\n",
       "      <td>STRONG</td>\n",
       "    </tr>\n",
       "    <tr>\n",
       "      <th>5</th>\n",
       "      <td>sony</td>\n",
       "      <td>0.541938</td>\n",
       "      <td>STRONG</td>\n",
       "    </tr>\n",
       "    <tr>\n",
       "      <th>2</th>\n",
       "      <td>samsung</td>\n",
       "      <td>0.358781</td>\n",
       "      <td>MODERATE</td>\n",
       "    </tr>\n",
       "    <tr>\n",
       "      <th>4</th>\n",
       "      <td>huawei</td>\n",
       "      <td>0.348135</td>\n",
       "      <td>MODERATE</td>\n",
       "    </tr>\n",
       "    <tr>\n",
       "      <th>6</th>\n",
       "      <td>nokia</td>\n",
       "      <td>0.172826</td>\n",
       "      <td>NO RELATIONSHIP</td>\n",
       "    </tr>\n",
       "    <tr>\n",
       "      <th>1</th>\n",
       "      <td>htc</td>\n",
       "      <td>0.087866</td>\n",
       "      <td>NO RELATIONSHIP</td>\n",
       "    </tr>\n",
       "    <tr>\n",
       "      <th>7</th>\n",
       "      <td>motorola</td>\n",
       "      <td>-0.053021</td>\n",
       "      <td>NO RELATIONSHIP</td>\n",
       "    </tr>\n",
       "    <tr>\n",
       "      <th>8</th>\n",
       "      <td>lg</td>\n",
       "      <td>-0.148169</td>\n",
       "      <td>NO RELATIONSHIP</td>\n",
       "    </tr>\n",
       "    <tr>\n",
       "      <th>3</th>\n",
       "      <td>xiaomi</td>\n",
       "      <td>-0.340541</td>\n",
       "      <td>MODERATE</td>\n",
       "    </tr>\n",
       "  </tbody>\n",
       "</table>\n",
       "</div>"
      ],
      "text/plain": [
       "      brand  correlation     relationship\n",
       "0     apple     0.760626           STRONG\n",
       "5      sony     0.541938           STRONG\n",
       "2   samsung     0.358781         MODERATE\n",
       "4    huawei     0.348135         MODERATE\n",
       "6     nokia     0.172826  NO RELATIONSHIP\n",
       "1       htc     0.087866  NO RELATIONSHIP\n",
       "7  motorola    -0.053021  NO RELATIONSHIP\n",
       "8        lg    -0.148169  NO RELATIONSHIP\n",
       "3    xiaomi    -0.340541         MODERATE"
      ]
     },
     "execution_count": 494,
     "metadata": {},
     "output_type": "execute_result"
    }
   ],
   "source": [
    "cor_df"
   ]
  },
  {
   "cell_type": "markdown",
   "metadata": {},
   "source": [
    "# Finding the optimal price to pay for a smartphone"
   ]
  },
  {
   "cell_type": "code",
   "execution_count": 52,
   "metadata": {},
   "outputs": [],
   "source": [
    "from sklearn.preprocessing import PolynomialFeatures\n",
    "from sklearn.linear_model import LinearRegression\n",
    "import numpy as np\n",
    "import operator"
   ]
  },
  {
   "cell_type": "code",
   "execution_count": 102,
   "metadata": {},
   "outputs": [],
   "source": [
    "apple = df[df.brand == 'apple']"
   ]
  },
  {
   "cell_type": "code",
   "execution_count": 179,
   "metadata": {},
   "outputs": [],
   "source": [
    "x = np.array(apple.price).reshape(-1, 1)\n",
    "y = np.array(apple.share_positive).reshape(-1, 1)\n",
    "\n",
    "polynomial_features= PolynomialFeatures(degree=2)\n",
    "x_poly = polynomial_features.fit_transform(x)\n",
    "\n",
    "model = LinearRegression()\n",
    "model.fit(x_poly, y)\n",
    "y_poly_pred = model.predict(x_poly)"
   ]
  },
  {
   "cell_type": "code",
   "execution_count": 73,
   "metadata": {},
   "outputs": [
    {
     "data": {
      "text/plain": [
       "[<matplotlib.lines.Line2D at 0x7f4a44035d68>]"
      ]
     },
     "execution_count": 73,
     "metadata": {},
     "output_type": "execute_result"
    },
    {
     "data": {
      "image/png": "[encoded data removed]",
      "text/plain": [
       "<Figure size 432x288 with 1 Axes>"
      ]
     },
     "metadata": {
      "needs_background": "light"
     },
     "output_type": "display_data"
    }
   ],
   "source": [
    "plt.scatter(x, y, s=10)\n",
    "sort_axis = operator.itemgetter(0)\n",
    "sorted_zip = sorted(zip(x,y_poly_pred), key=sort_axis)\n",
    "x, y_poly_pred = zip(*sorted_zip)\n",
    "plt.plot(x, y_poly_pred, color='m')"
   ]
  },
  {
   "cell_type": "markdown",
   "metadata": {},
   "source": [
    "### Derivative calculation method 1"
   ]
  },
  {
   "cell_type": "code",
   "execution_count": 182,
   "metadata": {},
   "outputs": [
    {
     "name": "stdout",
     "output_type": "stream",
     "text": [
      "0.0634176501728123 - 5.15414800766334e-5*x\n"
     ]
    }
   ],
   "source": [
    "from sympy import *\n",
    "x = Symbol('x')\n",
    "\n",
    "intercept = model.intercept_[0]\n",
    "coef_1 = model.coef_[0][1]\n",
    "coef_2 = model.coef_[0][2]\n",
    "\n",
    "\n",
    "f = intercept + (coef_1 * x) + (coef_2 * (x ** 2))\n",
    "\n",
    "f_prime = f.diff(x)\n",
    "print(f_prime)\n",
    "f = lambdify(x, f)\n",
    "f_prime = lambdify(x, f_prime)\n",
    "\n",
    "derivatives = [f_prime(val) for val in range(int(min(apple.price)), int(max(apple.price))) ]"
   ]
  },
  {
   "cell_type": "code",
   "execution_count": 184,
   "metadata": {
    "scrolled": true
   },
   "outputs": [
    {
     "data": {
      "image/png": "[encoded data removed]",
      "text/plain": [
       "<Figure size 432x288 with 1 Axes>"
      ]
     },
     "metadata": {
      "needs_background": "light"
     },
     "output_type": "display_data"
    }
   ],
   "source": [
    "plt.plot(range(int(min(apple.price)), int(max(apple.price))), derivatives );"
   ]
  },
  {
   "cell_type": "markdown",
   "metadata": {},
   "source": [
    "### Derivative calculation method 2"
   ]
  },
  {
   "cell_type": "code",
   "execution_count": 185,
   "metadata": {},
   "outputs": [],
   "source": [
    "p = np.poly1d([coef_2, coef_1, intercept])"
   ]
  },
  {
   "cell_type": "code",
   "execution_count": 186,
   "metadata": {},
   "outputs": [],
   "source": [
    "p2 = np.polyder(p)"
   ]
  },
  {
   "cell_type": "code",
   "execution_count": 187,
   "metadata": {},
   "outputs": [],
   "source": [
    "ders = [p2(x) for x in  range(int(min(apple.price)), int(max(apple.price)))]"
   ]
  },
  {
   "cell_type": "code",
   "execution_count": 188,
   "metadata": {},
   "outputs": [
    {
     "data": {
      "text/plain": [
       "[<matplotlib.lines.Line2D at 0x7f4a3d8b9908>]"
      ]
     },
     "execution_count": 188,
     "metadata": {},
     "output_type": "execute_result"
    },
    {
     "data": {
      "image/png": "[encoded data removed]",
      "text/plain": [
       "<Figure size 432x288 with 1 Axes>"
      ]
     },
     "metadata": {
      "needs_background": "light"
     },
     "output_type": "display_data"
    }
   ],
   "source": [
    "plt.plot(list(range(int(min(apple.price)), int(max(apple.price)))), ders)"
   ]
  },
  {
   "cell_type": "code",
   "execution_count": null,
   "metadata": {},
   "outputs": [],
   "source": []
  },
  {
   "cell_type": "code",
   "execution_count": 209,
   "metadata": {},
   "outputs": [],
   "source": [
    "def calculate_derivatives(intercept, coef_1, coef_2, brand_df):\n",
    "    x = Symbol('x')\n",
    "\n",
    "    f = intercept + (coef_1 * x) + (coef_2 * (x ** 2))\n",
    "\n",
    "    f_prime = f.diff(x)\n",
    "    f = lambdify(x, f)\n",
    "    f_prime = lambdify(x, f_prime)\n",
    "\n",
    "    derivatives = [(price, f_prime(price)) for price in range(int(min(brand_df.price)), int(max(brand_df.price))) ]\n",
    "    return derivatives"
   ]
  },
  {
   "cell_type": "markdown",
   "metadata": {},
   "source": [
    "# Generalizing the results per brand"
   ]
  },
  {
   "cell_type": "code",
   "execution_count": 210,
   "metadata": {},
   "outputs": [],
   "source": [
    "models = {}\n",
    "\n",
    "for brand in ['apple', 'sony', 'samsung', 'huawei']:\n",
    "    temp = df[df.brand == brand]\n",
    "    \n",
    "    x = np.array(temp.price).reshape(-1, 1)\n",
    "    y = np.array(temp.share_positive).reshape(-1, 1)\n",
    "\n",
    "    polynomial_features= PolynomialFeatures(degree=2)\n",
    "    x_poly = polynomial_features.fit_transform(x)\n",
    "\n",
    "    model = LinearRegression()\n",
    "    model.fit(x_poly, y)\n",
    "    models[brand] = model"
   ]
  },
  {
   "cell_type": "code",
   "execution_count": 211,
   "metadata": {},
   "outputs": [
    {
     "data": {
      "text/plain": [
       "{'apple': LinearRegression(copy_X=True, fit_intercept=True, n_jobs=None,\n",
       "          normalize=False),\n",
       " 'sony': LinearRegression(copy_X=True, fit_intercept=True, n_jobs=None,\n",
       "          normalize=False),\n",
       " 'samsung': LinearRegression(copy_X=True, fit_intercept=True, n_jobs=None,\n",
       "          normalize=False),\n",
       " 'huawei': LinearRegression(copy_X=True, fit_intercept=True, n_jobs=None,\n",
       "          normalize=False)}"
      ]
     },
     "execution_count": 211,
     "metadata": {},
     "output_type": "execute_result"
    }
   ],
   "source": [
    "models"
   ]
  },
  {
   "cell_type": "code",
   "execution_count": 212,
   "metadata": {},
   "outputs": [],
   "source": [
    "derivatives = {}\n",
    "\n",
    "for brand in ['apple', 'sony', 'samsung', 'huawei']:\n",
    "    temp = df[df.brand == brand]\n",
    "    derivatives[brand] = calculate_derivatives(models[brand].intercept_[0], \n",
    "                                               models[brand].coef_[0][1],\n",
    "                                              models[brand].coef_[0][2],\n",
    "                                              temp)"
   ]
  },
  {
   "cell_type": "markdown",
   "metadata": {},
   "source": [
    "# Finding the optimal price to pay"
   ]
  },
  {
   "cell_type": "markdown",
   "metadata": {},
   "source": [
    "#### The optimal price to pay depends on the price sensitivity of the customer, but should lay before the max of the regression line, as past this point, we start having negative return on investment. I will pick it to be exactly halfway between the function start and it's max, because I'm a penny pincher."
   ]
  },
  {
   "cell_type": "code",
   "execution_count": 243,
   "metadata": {
    "scrolled": true
   },
   "outputs": [],
   "source": [
    "optimals = {}\n",
    "for brand in ['apple', 'sony', 'samsung', 'huawei']:\n",
    "    optimal_der = max([x[1] for x in derivatives[brand] if x[1] > 0]) / 2\n",
    "    for price, der in derivatives[brand]:\n",
    "        if der > optimal_der:\n",
    "            continue\n",
    "        else:\n",
    "            optimals[brand] = price\n",
    "            break"
   ]
  },
  {
   "cell_type": "code",
   "execution_count": 244,
   "metadata": {},
   "outputs": [
    {
     "data": {
      "text/plain": [
       "{'apple': 676, 'sony': 627, 'samsung': 581, 'huawei': 416}"
      ]
     },
     "execution_count": 244,
     "metadata": {},
     "output_type": "execute_result"
    }
   ],
   "source": [
    "optimals"
   ]
  },
  {
   "cell_type": "code",
   "execution_count": 264,
   "metadata": {},
   "outputs": [
    {
     "data": {
      "image/png": "[encoded data removed]",
      "text/plain": [
       "<Figure size 432x288 with 1 Axes>"
      ]
     },
     "metadata": {
      "needs_background": "light"
     },
     "output_type": "display_data"
    },
    {
     "data": {
      "image/png": "[encoded data removed]",
      "text/plain": [
       "<Figure size 432x288 with 1 Axes>"
      ]
     },
     "metadata": {
      "needs_background": "light"
     },
     "output_type": "display_data"
    },
    {
     "data": {
      "image/png": "[encoded data removed]",
      "text/plain": [
       "<Figure size 432x288 with 1 Axes>"
      ]
     },
     "metadata": {
      "needs_background": "light"
     },
     "output_type": "display_data"
    },
    {
     "data": {
      "image/png": "[encoded data removed]",
      "text/plain": [
       "<Figure size 432x288 with 1 Axes>"
      ]
     },
     "metadata": {
      "needs_background": "light"
     },
     "output_type": "display_data"
    }
   ],
   "source": [
    "for brand in ['apple', 'sony', 'samsung', 'huawei']:\n",
    "    temp = df[df.brand == brand]\n",
    "    \n",
    "    plt.figure()\n",
    "    plt.ylim(0, 100)\n",
    "    plt.axvline(optimals[brand], 0, 90, color='green', label=f'optimal: { optimals[brand] } €')\n",
    "    plt.legend(loc=3)\n",
    "    sns.regplot(temp.price, temp.share_positive, line_kws={'color':'orange'}, order=2,).set_title(brand);"
   ]
  },
  {
   "cell_type": "markdown",
   "metadata": {},
   "source": [
    "# Conclusion"
   ]
  },
  {
   "cell_type": "markdown",
   "metadata": {},
   "source": [
    "The price-quality relationship varies greatly by brand. We found positive price quality relationship for:\n",
    "\n",
    "- Apple\n",
    "- Sony\n",
    "- Samsung\n",
    "- Huawei\n",
    "\n",
    "No conclusive relationship was found for:\n",
    "\n",
    "- Nokia\n",
    "- HTC\n",
    "- Motorola\n",
    "- LG\n",
    "\n",
    "Negative relationship was found for:\n",
    "\n",
    "- Xiaomi\n",
    "\n",
    "Even for the brands where the relationship is strong, there is a point at which it plateaus, meaning it's not worth spending more than X € on a phone of this brand.\n"
   ]
  },
  {
   "cell_type": "markdown",
   "metadata": {},
   "source": [
    "# Limitations"
   ]
  },
  {
   "cell_type": "markdown",
   "metadata": {},
   "source": [
    "1. The price falls over time. When scraping older phones, we get their discounted price. Ideally, the price upon release should be used.\n",
    "\n",
    "2. Many models no longer were sold new, only used or refurbished price was available, which had to be disregarded.\n",
    "\n",
    "3. It might be the case that low ratings for very expensive phones come from the fact that the expectations of the user were very high too, not because the phone itself was of bad quality. Hence, a 1-star review for a 200€ vs 1000€ phone does not indicate same quality for both.\n",
    "\n",
    "4. Only a very small proportion of buyers leave reviews, often the most happy or unhappy ones, from a specific demographic. Ideally the data should be collected from a random sample of all buyers, not only the prolific reviewers.\n",
    "\n",
    "5. It could be the case that the reviews tend to be good for newest models, but slowly deteriorate, as time passes, due to faults caused by planned obsolence. Hence newer models might have better reviews."
   ]
  },
  {
   "cell_type": "code",
   "execution_count": null,
   "metadata": {},
   "outputs": [],
   "source": []
  }
 ],
 "metadata": {
  "kernelspec": {
   "display_name": "Python 3",
   "language": "python",
   "name": "python3"
  },
  "language_info": {
   "codemirror_mode": {
    "name": "ipython",
    "version": 3
   },
   "file_extension": ".py",
   "mimetype": "text/x-python",
   "name": "python",
   "nbconvert_exporter": "python",
   "pygments_lexer": "ipython3",
   "version": "3.6.9"
  }
 },
 "nbformat": 4,
 "nbformat_minor": 4
}
