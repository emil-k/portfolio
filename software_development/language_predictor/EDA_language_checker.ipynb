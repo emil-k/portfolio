{
 "cells": [
  {
   "cell_type": "code",
   "execution_count": 1,
   "metadata": {},
   "outputs": [
    {
     "name": "stderr",
     "output_type": "stream",
     "text": [
      "/usr/lib/python3/dist-packages/requests/__init__.py:80: RequestsDependencyWarning: urllib3 (1.22) or chardet (2.3.0) doesn't match a supported version!\n",
      "  RequestsDependencyWarning)\n"
     ]
    }
   ],
   "source": [
    "from scrape_data import WikiUrl, SourceHtml, get_frequency_for_group\n",
    "import matplotlib.pyplot as plt\n",
    "import seaborn as sns\n",
    "import numpy as np\n",
    "import pandas as pd\n",
    "import string"
   ]
  },
  {
   "cell_type": "markdown",
   "metadata": {},
   "source": [
    "### This was a programming challenge for one of the jobs I applied for. The goal was to analyse letter frequency for pages in English vs pages in German. Then, you should build a model, which predicts the language based only on the letter distribution."
   ]
  },
  {
   "cell_type": "code",
   "execution_count": 2,
   "metadata": {},
   "outputs": [],
   "source": [
    "url_obj = WikiUrl('https://en.wikipedia.org/wiki/Vinted')\n",
    "content = url_obj.html"
   ]
  },
  {
   "cell_type": "code",
   "execution_count": 3,
   "metadata": {},
   "outputs": [
    {
     "data": {
      "text/plain": [
       "'\\n<!DOCTYPE html>\\n<html class=\"client-nojs\" lang=\"en\" dir=\"ltr\">\\n<head>\\n<meta charset=\"UTF-8\"/>\\n<title>Vinted - Wikipedia</title>\\n<script>document.documentElement.className=\"client-js\";RLCONF={\"wgBreakFrames\":!1,\"wgSeparatorTransformTable\":[\"\",\"\"],\"wgDigitTransformTable\":[\"\",\"\"],\"wgDefaultDateFormat\":\"dmy\",\"wgMonthNames\":[\"\",\"January\",\"February\",\"March\",\"April\",\"May\",\"June\",\"July\",\"August\",\"September\",\"October\",\"November\",\"December\"],\"wgRequestId\":\"XpiG-ApAAL0AALK@6hYAAAAQ\",\"wgCSPNonce\":!1,\"wgCan'"
      ]
     },
     "execution_count": 3,
     "metadata": {},
     "output_type": "execute_result"
    }
   ],
   "source": [
    "content[:500]"
   ]
  },
  {
   "cell_type": "code",
   "execution_count": 4,
   "metadata": {},
   "outputs": [
    {
     "name": "stdout",
     "output_type": "stream",
     "text": [
      "EN\n"
     ]
    }
   ],
   "source": [
    "url_obj = WikiUrl('https://en.wikipedia.org/wiki/Vinted')\n",
    "print(url_obj.lang)"
   ]
  },
  {
   "cell_type": "code",
   "execution_count": 5,
   "metadata": {},
   "outputs": [
    {
     "name": "stdout",
     "output_type": "stream",
     "text": [
      "DE\n"
     ]
    }
   ],
   "source": [
    "url_obj = WikiUrl('https://de.wikipedia.org/wiki/Kleiderkreisel')\n",
    "print(url_obj.lang)"
   ]
  },
  {
   "cell_type": "code",
   "execution_count": 7,
   "metadata": {},
   "outputs": [],
   "source": [
    "eu_urls = ['https://de.wikipedia.org/wiki/Belgien',\n",
    "          'https://de.wikipedia.org/wiki/Deutschland',\n",
    "          'https://de.wikipedia.org/wiki/Frankreich',\n",
    "          'https://de.wikipedia.org/wiki/Luxemburg',\n",
    "          'https://de.wikipedia.org/wiki/Niederlande',\n",
    "          'https://de.wikipedia.org/wiki/D%C3%A4nemark',\n",
    "          'https://de.wikipedia.org/wiki/Irland',\n",
    "          'https://de.wikipedia.org/wiki/Griechenland',\n",
    "          'https://de.wikipedia.org/wiki/Portugal',\n",
    "          'https://de.wikipedia.org/wiki/Spanien',\n",
    "          'https://de.wikipedia.org/wiki/Finnland',\n",
    "          'https://de.wikipedia.org/wiki/%C3%96sterreich',\n",
    "          'https://de.wikipedia.org/wiki/Schweden',\n",
    "          'https://de.wikipedia.org/wiki/Estland',\n",
    "          'https://de.wikipedia.org/wiki/Lettland',\n",
    "          'https://de.wikipedia.org/wiki/Litauen',\n",
    "          'https://de.wikipedia.org/wiki/Malta',\n",
    "          'https://de.wikipedia.org/wiki/Polen',\n",
    "          'https://de.wikipedia.org/wiki/Slowakei',\n",
    "          'https://de.wikipedia.org/wiki/Tschechien',\n",
    "          'https://de.wikipedia.org/wiki/Ungarn',\n",
    "          'https://de.wikipedia.org/wiki/Republik_Zypern',\n",
    "          'https://de.wikipedia.org/wiki/Bulgarien',\n",
    "          'https://de.wikipedia.org/wiki/Rum%C3%A4nien',\n",
    "          'https://de.wikipedia.org/wiki/Kroatien']"
   ]
  },
  {
   "cell_type": "code",
   "execution_count": 8,
   "metadata": {},
   "outputs": [],
   "source": [
    "eu_counters = get_frequency_for_group(eu_urls)\n",
    "eu = pd.Series(dict(np.sum(eu_counters)))\n",
    "eu.sort_values(ascending=False, inplace=True)"
   ]
  },
  {
   "cell_type": "code",
   "execution_count": 9,
   "metadata": {},
   "outputs": [
    {
     "data": {
      "text/plain": [
       "e    392156\n",
       "n    247379\n",
       "i    215339\n",
       "r    198609\n",
       "a    172942\n",
       "t    170640\n",
       "s    165943\n",
       "d    126279\n",
       "l    107452\n",
       "u    104377\n",
       "h    100037\n",
       "o     85772\n",
       "g     75881\n",
       "c     73171\n",
       "m     68135\n",
       "b     55481\n",
       "k     44251\n",
       "f     39432\n",
       "p     35413\n",
       "w     35068\n",
       "z     29155\n",
       "v     27371\n",
       "ä     15614\n",
       "ü     11424\n",
       "j      9294\n",
       "ö      8217\n",
       "y      5778\n",
       "x      4124\n",
       "q      1890\n",
       "dtype: int64"
      ]
     },
     "execution_count": 9,
     "metadata": {},
     "output_type": "execute_result"
    }
   ],
   "source": [
    "eu"
   ]
  },
  {
   "cell_type": "code",
   "execution_count": 10,
   "metadata": {},
   "outputs": [
    {
     "data": {
      "image/png": "[encoded data removed]",
      "text/plain": [
       "<Figure size 576x432 with 1 Axes>"
      ]
     },
     "metadata": {
      "needs_background": "light"
     },
     "output_type": "display_data"
    }
   ],
   "source": [
    "# without this import, umlaut characters are not displayed properly as xticks. weird!\n",
    "from matplotlib import rcParams\n",
    "rcParams['text.usetex'] = True\n",
    "\n",
    "plt.figure(figsize=(8, 6))\n",
    "g = sns.barplot(x=list(eu.index), y=eu.values, order=string.ascii_lowercase + \"äöü\");\n",
    "\n",
    "plt.xticks(fontsize=14);\n",
    "plt.yticks(fontsize=14);\n",
    "plt.suptitle(\"Letter Frequency for a group of country pages\", fontsize=20);\n",
    "plt.title(\"GERMAN\");"
   ]
  },
  {
   "cell_type": "markdown",
   "metadata": {},
   "source": [
    "Let's compare country pages and pop star pages."
   ]
  },
  {
   "cell_type": "code",
   "execution_count": 11,
   "metadata": {},
   "outputs": [],
   "source": [
    "pop_urls = ['https://de.wikipedia.org/wiki/Katy_Perry',\n",
    "           'https://de.wikipedia.org/wiki/Mariah_Carey',\n",
    "           'https://de.wikipedia.org/wiki/Madonna_(K%C3%BCnstlerin)',\n",
    "            'https://de.wikipedia.org/wiki/Adele_(S%C3%A4ngerin)',\n",
    "            'https://de.wikipedia.org/wiki/Whitney_Houston',\n",
    "            'https://de.wikipedia.org/wiki/C%C3%A9line_Dion',\n",
    "            'https://de.wikipedia.org/wiki/Britney_Spears',\n",
    "            'https://de.wikipedia.org/wiki/Shania_Twain',\n",
    "            'https://de.wikipedia.org/wiki/Janet_Jackson',\n",
    "            'https://de.wikipedia.org/wiki/Lady_Gaga',\n",
    "            'https://de.wikipedia.org/wiki/Beyonc%C3%A9',\n",
    "            'https://de.wikipedia.org/wiki/Rihanna',\n",
    "            'https://de.wikipedia.org/wiki/Drake_(Rapper)',\n",
    "            'https://de.wikipedia.org/wiki/Dua_Lipa',\n",
    "            'https://de.wikipedia.org/wiki/Kanye_West',\n",
    "            'https://de.wikipedia.org/wiki/Timbaland',\n",
    "            'https://de.wikipedia.org/wiki/Jay-Z',\n",
    "            'https://de.wikipedia.org/wiki/Pharrell_Williams',\n",
    "            'https://de.wikipedia.org/wiki/Nicki_Minaj',\n",
    "            'https://de.wikipedia.org/wiki/Missy_Elliott',\n",
    "            'https://de.wikipedia.org/wiki/Cardi_B',\n",
    "            'https://de.wikipedia.org/wiki/Justin_Bieber',\n",
    "            'https://de.wikipedia.org/wiki/Michael_Jackson',\n",
    "            'https://de.wikipedia.org/wiki/Ed_Sheeran',\n",
    "            'https://de.wikipedia.org/wiki/Bruno_Mars',\n",
    "            'https://de.wikipedia.org/wiki/Justin_Timberlake'\n",
    "           ]\n",
    "\n",
    "pop_counters = get_frequency_for_group(pop_urls)\n",
    "pop = pd.Series(dict(np.sum(pop_counters)))"
   ]
  },
  {
   "cell_type": "code",
   "execution_count": 12,
   "metadata": {},
   "outputs": [],
   "source": [
    "df_pop = pd.DataFrame(pop)\n",
    "df_pop['cat'] = \"pop\""
   ]
  },
  {
   "cell_type": "code",
   "execution_count": 13,
   "metadata": {},
   "outputs": [],
   "source": [
    "df_eu = pd.DataFrame(eu)\n",
    "df_eu['cat'] = \"eu\""
   ]
  },
  {
   "cell_type": "code",
   "execution_count": 14,
   "metadata": {},
   "outputs": [],
   "source": [
    "comparison = df_pop.append(df_eu)\n",
    "comparison.columns = ['cnt', 'cat']"
   ]
  },
  {
   "cell_type": "code",
   "execution_count": 15,
   "metadata": {},
   "outputs": [
    {
     "data": {
      "text/html": [
       "<div>\n",
       "<style scoped>\n",
       "    .dataframe tbody tr th:only-of-type {\n",
       "        vertical-align: middle;\n",
       "    }\n",
       "\n",
       "    .dataframe tbody tr th {\n",
       "        vertical-align: top;\n",
       "    }\n",
       "\n",
       "    .dataframe thead th {\n",
       "        text-align: right;\n",
       "    }\n",
       "</style>\n",
       "<table border=\"1\" class=\"dataframe\">\n",
       "  <thead>\n",
       "    <tr style=\"text-align: right;\">\n",
       "      <th></th>\n",
       "      <th>cnt</th>\n",
       "      <th>cat</th>\n",
       "    </tr>\n",
       "  </thead>\n",
       "  <tbody>\n",
       "    <tr>\n",
       "      <th>k</th>\n",
       "      <td>12849</td>\n",
       "      <td>pop</td>\n",
       "    </tr>\n",
       "    <tr>\n",
       "      <th>a</th>\n",
       "      <td>63790</td>\n",
       "      <td>pop</td>\n",
       "    </tr>\n",
       "    <tr>\n",
       "      <th>t</th>\n",
       "      <td>61331</td>\n",
       "      <td>pop</td>\n",
       "    </tr>\n",
       "    <tr>\n",
       "      <th>y</th>\n",
       "      <td>7773</td>\n",
       "      <td>pop</td>\n",
       "    </tr>\n",
       "    <tr>\n",
       "      <th>p</th>\n",
       "      <td>18144</td>\n",
       "      <td>pop</td>\n",
       "    </tr>\n",
       "  </tbody>\n",
       "</table>\n",
       "</div>"
      ],
      "text/plain": [
       "     cnt  cat\n",
       "k  12849  pop\n",
       "a  63790  pop\n",
       "t  61331  pop\n",
       "y   7773  pop\n",
       "p  18144  pop"
      ]
     },
     "execution_count": 15,
     "metadata": {},
     "output_type": "execute_result"
    }
   ],
   "source": [
    "comparison.head()"
   ]
  },
  {
   "cell_type": "code",
   "execution_count": 16,
   "metadata": {},
   "outputs": [
    {
     "data": {
      "image/png": "[encoded data removed]",
      "text/plain": [
       "<Figure size 864x432 with 1 Axes>"
      ]
     },
     "metadata": {
      "needs_background": "light"
     },
     "output_type": "display_data"
    }
   ],
   "source": [
    "import string\n",
    "plt.figure(figsize=(12, 6))\n",
    "sns.barplot(x=list(comparison.index), y=list(comparison['cnt']), \n",
    "            hue=comparison['cat'], \n",
    "            order=string.ascii_lowercase + \"äöü\");\n",
    "\n",
    "plt.suptitle(\"Letter Frequency Comparison - country pages VS pop singers\", fontsize=20);\n",
    "plt.title(\"GERMAN\");\n",
    "plt.xticks(fontsize=14);\n",
    "plt.yticks(fontsize=14);"
   ]
  },
  {
   "cell_type": "markdown",
   "metadata": {},
   "source": [
    "### WARNING:"
   ]
  },
  {
   "cell_type": "markdown",
   "metadata": {},
   "source": [
    "Hmm, it doesn't look right. I see that the eu data points always have higher frequencies (counts), which is due to a longer wikipedia article. Length of article shouldn't influence such a comparison, so I would prefer to calculate the percentage share of each letter in the article."
   ]
  },
  {
   "cell_type": "code",
   "execution_count": 17,
   "metadata": {},
   "outputs": [
    {
     "data": {
      "text/html": [
       "<div>\n",
       "<style scoped>\n",
       "    .dataframe tbody tr th:only-of-type {\n",
       "        vertical-align: middle;\n",
       "    }\n",
       "\n",
       "    .dataframe tbody tr th {\n",
       "        vertical-align: top;\n",
       "    }\n",
       "\n",
       "    .dataframe thead th {\n",
       "        text-align: right;\n",
       "    }\n",
       "</style>\n",
       "<table border=\"1\" class=\"dataframe\">\n",
       "  <thead>\n",
       "    <tr style=\"text-align: right;\">\n",
       "      <th></th>\n",
       "      <th>0</th>\n",
       "      <th>cat</th>\n",
       "    </tr>\n",
       "  </thead>\n",
       "  <tbody>\n",
       "    <tr>\n",
       "      <th>k</th>\n",
       "      <td>12849</td>\n",
       "      <td>pop</td>\n",
       "    </tr>\n",
       "    <tr>\n",
       "      <th>a</th>\n",
       "      <td>63790</td>\n",
       "      <td>pop</td>\n",
       "    </tr>\n",
       "    <tr>\n",
       "      <th>t</th>\n",
       "      <td>61331</td>\n",
       "      <td>pop</td>\n",
       "    </tr>\n",
       "    <tr>\n",
       "      <th>y</th>\n",
       "      <td>7773</td>\n",
       "      <td>pop</td>\n",
       "    </tr>\n",
       "    <tr>\n",
       "      <th>p</th>\n",
       "      <td>18144</td>\n",
       "      <td>pop</td>\n",
       "    </tr>\n",
       "  </tbody>\n",
       "</table>\n",
       "</div>"
      ],
      "text/plain": [
       "       0  cat\n",
       "k  12849  pop\n",
       "a  63790  pop\n",
       "t  61331  pop\n",
       "y   7773  pop\n",
       "p  18144  pop"
      ]
     },
     "execution_count": 17,
     "metadata": {},
     "output_type": "execute_result"
    }
   ],
   "source": [
    "df_pop.head()"
   ]
  },
  {
   "cell_type": "code",
   "execution_count": 18,
   "metadata": {},
   "outputs": [],
   "source": [
    "df_pop.columns = ['cnt', 'cat']\n",
    "df_pop['letter_share'] = df_pop['cnt'] / sum(df_pop.cnt)"
   ]
  },
  {
   "cell_type": "code",
   "execution_count": 19,
   "metadata": {},
   "outputs": [],
   "source": [
    "df_eu.columns = ['cnt', 'cat']\n",
    "df_eu['letter_share'] = df_eu['cnt'] / sum(df_eu.cnt)"
   ]
  },
  {
   "cell_type": "code",
   "execution_count": 20,
   "metadata": {},
   "outputs": [
    {
     "data": {
      "text/html": [
       "<div>\n",
       "<style scoped>\n",
       "    .dataframe tbody tr th:only-of-type {\n",
       "        vertical-align: middle;\n",
       "    }\n",
       "\n",
       "    .dataframe tbody tr th {\n",
       "        vertical-align: top;\n",
       "    }\n",
       "\n",
       "    .dataframe thead th {\n",
       "        text-align: right;\n",
       "    }\n",
       "</style>\n",
       "<table border=\"1\" class=\"dataframe\">\n",
       "  <thead>\n",
       "    <tr style=\"text-align: right;\">\n",
       "      <th></th>\n",
       "      <th>cnt</th>\n",
       "      <th>cat</th>\n",
       "      <th>letter_share</th>\n",
       "    </tr>\n",
       "  </thead>\n",
       "  <tbody>\n",
       "    <tr>\n",
       "      <th>e</th>\n",
       "      <td>392156</td>\n",
       "      <td>eu</td>\n",
       "      <td>0.149300</td>\n",
       "    </tr>\n",
       "    <tr>\n",
       "      <th>n</th>\n",
       "      <td>247379</td>\n",
       "      <td>eu</td>\n",
       "      <td>0.094181</td>\n",
       "    </tr>\n",
       "    <tr>\n",
       "      <th>i</th>\n",
       "      <td>215339</td>\n",
       "      <td>eu</td>\n",
       "      <td>0.081983</td>\n",
       "    </tr>\n",
       "    <tr>\n",
       "      <th>r</th>\n",
       "      <td>198609</td>\n",
       "      <td>eu</td>\n",
       "      <td>0.075614</td>\n",
       "    </tr>\n",
       "    <tr>\n",
       "      <th>a</th>\n",
       "      <td>172942</td>\n",
       "      <td>eu</td>\n",
       "      <td>0.065842</td>\n",
       "    </tr>\n",
       "  </tbody>\n",
       "</table>\n",
       "</div>"
      ],
      "text/plain": [
       "      cnt cat  letter_share\n",
       "e  392156  eu      0.149300\n",
       "n  247379  eu      0.094181\n",
       "i  215339  eu      0.081983\n",
       "r  198609  eu      0.075614\n",
       "a  172942  eu      0.065842"
      ]
     },
     "execution_count": 20,
     "metadata": {},
     "output_type": "execute_result"
    }
   ],
   "source": [
    "df_eu.head()"
   ]
  },
  {
   "cell_type": "code",
   "execution_count": 21,
   "metadata": {},
   "outputs": [],
   "source": [
    "comparison_perc = df_pop.append(df_eu)"
   ]
  },
  {
   "cell_type": "code",
   "execution_count": 22,
   "metadata": {},
   "outputs": [
    {
     "data": {
      "image/png": "[encoded data removed]",
      "text/plain": [
       "<Figure size 864x432 with 1 Axes>"
      ]
     },
     "metadata": {
      "needs_background": "light"
     },
     "output_type": "display_data"
    }
   ],
   "source": [
    "import string\n",
    "plt.figure(figsize=(12, 6))\n",
    "sns.barplot(x=list(comparison_perc.index), y=list(comparison_perc['letter_share']), \n",
    "            hue=comparison_perc['cat'], \n",
    "            order=string.ascii_lowercase + \"äöü\");\n",
    "\n",
    "plt.suptitle(\"Letter Share Comparison - country pages VS pop singers\", fontsize=20);\n",
    "plt.title(\"GERMAN\");\n",
    "plt.xticks(fontsize=14);\n",
    "plt.yticks(fontsize=14);"
   ]
  },
  {
   "cell_type": "markdown",
   "metadata": {},
   "source": [
    "Okay, here we see that the values are much closer, across two semantically different article groups, belonging to the same language."
   ]
  },
  {
   "cell_type": "markdown",
   "metadata": {},
   "source": [
    "# Predicting the language"
   ]
  },
  {
   "cell_type": "markdown",
   "metadata": {},
   "source": [
    "There are many way of doing it. Here, I will explore 2 of them:<br><br>\n",
    "    1. Using machine learning<br>\n",
    "    2. Using vector operations<br>"
   ]
  },
  {
   "cell_type": "markdown",
   "metadata": {},
   "source": [
    "### 1. Method - using machine learning"
   ]
  },
  {
   "cell_type": "markdown",
   "metadata": {},
   "source": [
    "ML is actually totally overkill for such a task, and so little data...  But let's give it a shot anyway."
   ]
  },
  {
   "cell_type": "markdown",
   "metadata": {},
   "source": [
    "First, we need to create a sort of dictionary for each language. This dictionary will serve as a template, against which we compare the pages we want to predict."
   ]
  },
  {
   "cell_type": "code",
   "execution_count": 2,
   "metadata": {},
   "outputs": [],
   "source": [
    "eng_eu_urls = ['https://en.wikipedia.org/wiki/Belgium',\n",
    "          'https://en.wikipedia.org/wiki/Germany',\n",
    "          'https://en.wikipedia.org/wiki/France',\n",
    "          'https://en.wikipedia.org/wiki/Luxembourg',\n",
    "          'https://en.wikipedia.org/wiki/Netherlands',\n",
    "          'https://en.wikipedia.org/wiki/Denmark',\n",
    "          'https://en.wikipedia.org/wiki/Ireland',\n",
    "          'https://en.wikipedia.org/wiki/Greece',\n",
    "          'https://en.wikipedia.org/wiki/Portugal',\n",
    "          'https://en.wikipedia.org/wiki/Spain',\n",
    "          'https://en.wikipedia.org/wiki/Finland',\n",
    "          'https://en.wikipedia.org/wiki/Austria',\n",
    "          'https://en.wikipedia.org/wiki/Sweden',\n",
    "          'https://en.wikipedia.org/wiki/Estonia',\n",
    "          'https://en.wikipedia.org/wiki/Latvia',\n",
    "          'https://en.wikipedia.org/wiki/Lithuania',\n",
    "          'https://en.wikipedia.org/wiki/Malta',\n",
    "          'https://en.wikipedia.org/wiki/Poland',\n",
    "          'https://en.wikipedia.org/wiki/Slovakia',\n",
    "          'https://en.wikipedia.org/wiki/Czech_Republic',\n",
    "          'https://en.wikipedia.org/wiki/Hungary',\n",
    "          'https://en.wikipedia.org/wiki/Cyprus',\n",
    "          'https://en.wikipedia.org/wiki/Bulgaria',\n",
    "          'https://en.wikipedia.org/wiki/Romania',\n",
    "          'https://en.wikipedia.org/wiki/Croatia']\n",
    "\n",
    "de_eu_urls = ['https://de.wikipedia.org/wiki/Belgien',\n",
    "          'https://de.wikipedia.org/wiki/Deutschland',\n",
    "          'https://de.wikipedia.org/wiki/Frankreich',\n",
    "          'https://de.wikipedia.org/wiki/Luxemburg',\n",
    "          'https://de.wikipedia.org/wiki/Niederlande',\n",
    "          'https://de.wikipedia.org/wiki/D%C3%A4nemark',\n",
    "          'https://de.wikipedia.org/wiki/Irland',\n",
    "          'https://de.wikipedia.org/wiki/Griechenland',\n",
    "          'https://de.wikipedia.org/wiki/Portugal',\n",
    "          'https://de.wikipedia.org/wiki/Spanien',\n",
    "          'https://de.wikipedia.org/wiki/Finnland',\n",
    "          'https://de.wikipedia.org/wiki/%C3%96sterreich',\n",
    "          'https://de.wikipedia.org/wiki/Schweden',\n",
    "          'https://de.wikipedia.org/wiki/Estland',\n",
    "          'https://de.wikipedia.org/wiki/Lettland',\n",
    "          'https://de.wikipedia.org/wiki/Litauen',\n",
    "          'https://de.wikipedia.org/wiki/Malta',\n",
    "          'https://de.wikipedia.org/wiki/Polen',\n",
    "          'https://de.wikipedia.org/wiki/Slowakei',\n",
    "          'https://de.wikipedia.org/wiki/Tschechien',\n",
    "          'https://de.wikipedia.org/wiki/Ungarn',\n",
    "          'https://de.wikipedia.org/wiki/Republik_Zypern',\n",
    "          'https://de.wikipedia.org/wiki/Bulgarien',\n",
    "          'https://de.wikipedia.org/wiki/Rum%C3%A4nien',\n",
    "          'https://de.wikipedia.org/wiki/Kroatien']"
   ]
  },
  {
   "cell_type": "code",
   "execution_count": 3,
   "metadata": {},
   "outputs": [],
   "source": [
    "eng_eu_counters = get_frequency_for_group(eng_eu_urls)\n",
    "de_eu_counters = get_frequency_for_group(de_eu_urls)"
   ]
  },
  {
   "cell_type": "markdown",
   "metadata": {},
   "source": [
    "### Just out of curiosity, let's plot the letter share between English and German."
   ]
  },
  {
   "cell_type": "code",
   "execution_count": 97,
   "metadata": {},
   "outputs": [
    {
     "data": {
      "image/png": "[encoded data removed]",
      "text/plain": [
       "<Figure size 864x432 with 1 Axes>"
      ]
     },
     "metadata": {
      "needs_background": "light"
     },
     "output_type": "display_data"
    }
   ],
   "source": [
    "aggr_eng_eu_cnt = pd.Series(dict(np.sum(eng_eu_counters)))\n",
    "aggr_de_eu_counters = pd.Series(dict(np.sum(de_eu_counters)))\n",
    "\n",
    "train_eng = pd.DataFrame(aggr_eng_eu_cnt, columns=['cnt'])\n",
    "train_de = pd.DataFrame(aggr_de_eu_counters, columns=['cnt'])\n",
    "\n",
    "train_eng['letter_share'] = train_eng['cnt'] / sum(train_eng['cnt'])\n",
    "train_eng['cat'] = \"ENG\"\n",
    "\n",
    "train_de['letter_share'] = train_de['cnt'] / sum(train_de['cnt'])\n",
    "train_de['cat'] = \"DE\"\n",
    "\n",
    "lang_comparison = train_eng.append(train_de, sort=False)\n",
    "\n",
    "import string\n",
    "\n",
    "from matplotlib import rcParams\n",
    "rcParams['text.usetex'] = True\n",
    "\n",
    "plt.figure(figsize=(12, 6))\n",
    "sns.barplot(x=list(lang_comparison.index), y=list(lang_comparison['letter_share']), \n",
    "            hue=lang_comparison['cat'], \n",
    "            order=string.ascii_lowercase + \"äöü\");\n",
    "\n",
    "plt.suptitle(\"Letter Share Comparison - English vs German\", fontsize=20);\n",
    "plt.title(\"Based on EU country pages\");\n",
    "plt.xticks(fontsize=14);\n",
    "plt.yticks(fontsize=14);"
   ]
  },
  {
   "cell_type": "code",
   "execution_count": 5,
   "metadata": {},
   "outputs": [],
   "source": [
    "def counters_to_df(counters:list):\n",
    "    df = pd.DataFrame()\n",
    "    for cnt in counters:\n",
    "        row = pd.DataFrame(pd.Series(dict(cnt))).T\n",
    "        df = df.append(row, sort=False)\n",
    "        df.columns = sorted(df.columns)\n",
    "    return df"
   ]
  },
  {
   "cell_type": "code",
   "execution_count": 6,
   "metadata": {},
   "outputs": [],
   "source": [
    "df_en = counters_to_df(eng_eu_counters)\n",
    "df_de = counters_to_df(de_eu_counters)"
   ]
  },
  {
   "cell_type": "code",
   "execution_count": 7,
   "metadata": {},
   "outputs": [],
   "source": [
    "def turn_counts_to_percentages(df):\n",
    "    return df.apply(lambda x: x / sum(x), axis=1)"
   ]
  },
  {
   "cell_type": "code",
   "execution_count": 8,
   "metadata": {},
   "outputs": [],
   "source": [
    "df_en = turn_counts_to_percentages(df_en)\n",
    "df_de = turn_counts_to_percentages(df_de)"
   ]
  },
  {
   "cell_type": "code",
   "execution_count": 9,
   "metadata": {},
   "outputs": [],
   "source": [
    "df_en['category'] = 0\n",
    "df_de['category'] = 1\n",
    "\n",
    "train = df_en.append(df_de)"
   ]
  },
  {
   "cell_type": "code",
   "execution_count": 10,
   "metadata": {},
   "outputs": [],
   "source": [
    "from sklearn.tree import DecisionTreeClassifier\n",
    "from sklearn.neighbors import KNeighborsClassifier\n",
    "\n",
    "y = train['category']\n",
    "train.drop([\"category\"], axis=1, inplace=True)\n",
    "X = train"
   ]
  },
  {
   "cell_type": "code",
   "execution_count": 11,
   "metadata": {},
   "outputs": [
    {
     "data": {
      "text/plain": [
       "KNeighborsClassifier(algorithm='auto', leaf_size=30, metric='minkowski',\n",
       "                     metric_params=None, n_jobs=None, n_neighbors=5, p=2,\n",
       "                     weights='uniform')"
      ]
     },
     "execution_count": 11,
     "metadata": {},
     "output_type": "execute_result"
    }
   ],
   "source": [
    "dt = DecisionTreeClassifier(random_state=5)\n",
    "dt.fit(X, y)\n",
    "\n",
    "knn = KNeighborsClassifier()\n",
    "knn.fit(X, y)"
   ]
  },
  {
   "cell_type": "code",
   "execution_count": 12,
   "metadata": {},
   "outputs": [
    {
     "data": {
      "text/html": [
       "\n",
       "    <style>\n",
       "    table.eli5-weights tr:hover {\n",
       "        filter: brightness(85%);\n",
       "    }\n",
       "</style>\n",
       "\n",
       "\n",
       "\n",
       "    \n",
       "\n",
       "    \n",
       "\n",
       "    \n",
       "\n",
       "    \n",
       "\n",
       "    \n",
       "\n",
       "    \n",
       "\n",
       "\n",
       "    \n",
       "\n",
       "    \n",
       "\n",
       "    \n",
       "\n",
       "    \n",
       "\n",
       "    \n",
       "\n",
       "    \n",
       "\n",
       "\n",
       "    \n",
       "\n",
       "    \n",
       "\n",
       "    \n",
       "\n",
       "    \n",
       "\n",
       "    \n",
       "        <table class=\"eli5-weights eli5-feature-importances\" style=\"border-collapse: collapse; border: none; margin-top: 0em; table-layout: auto;\">\n",
       "    <thead>\n",
       "    <tr style=\"border: none;\">\n",
       "        <th style=\"padding: 0 1em 0 0.5em; text-align: right; border: none;\">Weight</th>\n",
       "        <th style=\"padding: 0 0.5em 0 0.5em; text-align: left; border: none;\">Feature</th>\n",
       "    </tr>\n",
       "    </thead>\n",
       "    <tbody>\n",
       "    \n",
       "        <tr style=\"background-color: hsl(120, 100.00%, 80.00%); border: none;\">\n",
       "            <td style=\"padding: 0 1em 0 0.5em; text-align: right; border: none;\">\n",
       "                1.0000\n",
       "                \n",
       "            </td>\n",
       "            <td style=\"padding: 0 0.5em 0 0.5em; text-align: left; border: none;\">\n",
       "                ö\n",
       "            </td>\n",
       "        </tr>\n",
       "    \n",
       "        <tr style=\"background-color: hsl(0, 100.00%, 100.00%); border: none;\">\n",
       "            <td style=\"padding: 0 1em 0 0.5em; text-align: right; border: none;\">\n",
       "                0\n",
       "                \n",
       "            </td>\n",
       "            <td style=\"padding: 0 0.5em 0 0.5em; text-align: left; border: none;\">\n",
       "                m\n",
       "            </td>\n",
       "        </tr>\n",
       "    \n",
       "        <tr style=\"background-color: hsl(0, 100.00%, 100.00%); border: none;\">\n",
       "            <td style=\"padding: 0 1em 0 0.5em; text-align: right; border: none;\">\n",
       "                0\n",
       "                \n",
       "            </td>\n",
       "            <td style=\"padding: 0 0.5em 0 0.5em; text-align: left; border: none;\">\n",
       "                i\n",
       "            </td>\n",
       "        </tr>\n",
       "    \n",
       "        <tr style=\"background-color: hsl(0, 100.00%, 100.00%); border: none;\">\n",
       "            <td style=\"padding: 0 1em 0 0.5em; text-align: right; border: none;\">\n",
       "                0\n",
       "                \n",
       "            </td>\n",
       "            <td style=\"padding: 0 0.5em 0 0.5em; text-align: left; border: none;\">\n",
       "                j\n",
       "            </td>\n",
       "        </tr>\n",
       "    \n",
       "        <tr style=\"background-color: hsl(0, 100.00%, 100.00%); border: none;\">\n",
       "            <td style=\"padding: 0 1em 0 0.5em; text-align: right; border: none;\">\n",
       "                0\n",
       "                \n",
       "            </td>\n",
       "            <td style=\"padding: 0 0.5em 0 0.5em; text-align: left; border: none;\">\n",
       "                ü\n",
       "            </td>\n",
       "        </tr>\n",
       "    \n",
       "    \n",
       "        \n",
       "            <tr style=\"background-color: hsl(0, 100.00%, 100.00%); border: none;\">\n",
       "                <td colspan=\"2\" style=\"padding: 0 0.5em 0 0.5em; text-align: center; border: none; white-space: nowrap;\">\n",
       "                    <i>&hellip; 24 more &hellip;</i>\n",
       "                </td>\n",
       "            </tr>\n",
       "        \n",
       "    \n",
       "    </tbody>\n",
       "</table>\n",
       "    \n",
       "\n",
       "    \n",
       "\n",
       "\n",
       "    \n",
       "\n",
       "    \n",
       "\n",
       "    \n",
       "\n",
       "    \n",
       "\n",
       "    \n",
       "\n",
       "    \n",
       "        \n",
       "        <br>\n",
       "        <pre>ö <= 0.002  (50.0%)  ---> 0.000\n",
       "ö > 0.002  (50.0%)  ---> 1.000</pre>\n",
       "    \n",
       "\n",
       "\n",
       "\n"
      ],
      "text/plain": [
       "<IPython.core.display.HTML object>"
      ]
     },
     "execution_count": 12,
     "metadata": {},
     "output_type": "execute_result"
    }
   ],
   "source": [
    "import eli5\n",
    "eli5.show_weights(dt, top=5, feature_names=list(train.columns))"
   ]
  },
  {
   "cell_type": "markdown",
   "metadata": {},
   "source": [
    "Ha! As expected, the umlauts are the giveaway. They totally override all other characters."
   ]
  },
  {
   "cell_type": "markdown",
   "metadata": {},
   "source": [
    "### Prediction time!"
   ]
  },
  {
   "cell_type": "code",
   "execution_count": 13,
   "metadata": {},
   "outputs": [],
   "source": [
    "def ML_predict(url, model):\n",
    "    to_predict = get_frequency_for_group([url])\n",
    "    df_pred = counters_to_df(to_predict)\n",
    "    df_pred = turn_counts_to_percentages(df_pred)\n",
    "    if model.predict(df_pred)[0] == 0:\n",
    "        lang = \"English\"\n",
    "    else:\n",
    "        lang = \"German\"\n",
    "        \n",
    "    proba = max(model.predict_proba(df_pred)[0])\n",
    "    print(f\"{url} predicted as {lang} with probability of {proba}\")"
   ]
  },
  {
   "cell_type": "code",
   "execution_count": 14,
   "metadata": {},
   "outputs": [],
   "source": [
    "to_predict = ['https://de.wikipedia.org/wiki/Russland',\n",
    "             'https://en.wikipedia.org/wiki/Global_warming',\n",
    "             'https://de.wikipedia.org/wiki/Globale_Erw%C3%A4rmung',\n",
    "             'https://en.wikipedia.org/wiki/Tesla,_Inc.',\n",
    "             'https://de.wikipedia.org/wiki/Shanghai',\n",
    "             'https://de.wikipedia.org/wiki/Gegend%C3%A4mmerung',\n",
    "             'https://en.wikipedia.org/wiki/Horizon',\n",
    "             'https://en.wikipedia.org/wiki/Earth',\n",
    "            'https://de.wikipedia.org/wiki/Tony_Hawk',\n",
    "              'https://de.wikipedia.org/wiki/Wahrnehmung'\n",
    "             ]"
   ]
  },
  {
   "cell_type": "code",
   "execution_count": 15,
   "metadata": {},
   "outputs": [
    {
     "name": "stdout",
     "output_type": "stream",
     "text": [
      "https://de.wikipedia.org/wiki/Russland predicted as German with probability of 1.0\n",
      "https://en.wikipedia.org/wiki/Global_warming predicted as English with probability of 1.0\n",
      "https://de.wikipedia.org/wiki/Globale_Erw%C3%A4rmung predicted as German with probability of 1.0\n",
      "https://en.wikipedia.org/wiki/Tesla,_Inc. predicted as English with probability of 1.0\n",
      "https://de.wikipedia.org/wiki/Shanghai predicted as German with probability of 1.0\n",
      "https://de.wikipedia.org/wiki/Gegend%C3%A4mmerung predicted as English with probability of 1.0\n",
      "https://en.wikipedia.org/wiki/Horizon predicted as English with probability of 1.0\n",
      "https://en.wikipedia.org/wiki/Earth predicted as English with probability of 1.0\n",
      "https://de.wikipedia.org/wiki/Tony_Hawk predicted as German with probability of 1.0\n",
      "https://de.wikipedia.org/wiki/Wahrnehmung predicted as German with probability of 1.0\n"
     ]
    }
   ],
   "source": [
    "for url in to_predict:\n",
    "    ML_predict(url, dt)"
   ]
  },
  {
   "cell_type": "markdown",
   "metadata": {},
   "source": [
    "It did quite okay, but it got Gegendämmerung wrong. Because of very little data, and one feature overriding others, it always have 100% confidence in the prediction. It looks like this model does better than random guessing, but we would need to test it on a much bigger sample to know if it's as good as it looks at first sight."
   ]
  },
  {
   "cell_type": "markdown",
   "metadata": {},
   "source": [
    "### 2. Vector distance"
   ]
  },
  {
   "cell_type": "markdown",
   "metadata": {},
   "source": [
    "If we use the mean percetage share of every letter per language, we could generalize every language into one vector. This vector would be a so to speak dictionary for that language. Then, we could compare a random page, and calculate the vector distance to english and german dictionary. Whichever dictionary is closer, this will be our choice."
   ]
  },
  {
   "cell_type": "code",
   "execution_count": 16,
   "metadata": {},
   "outputs": [],
   "source": [
    "df_en = counters_to_df(eng_eu_counters)\n",
    "df_de = counters_to_df(de_eu_counters)"
   ]
  },
  {
   "cell_type": "code",
   "execution_count": 17,
   "metadata": {},
   "outputs": [],
   "source": [
    "vector_en = np.sum(df_en, axis=0) / sum(np.sum(df_en, axis=0))\n",
    "vector_de = np.sum(df_de, axis=0) / sum(np.sum(df_de, axis=0))"
   ]
  },
  {
   "cell_type": "code",
   "execution_count": 18,
   "metadata": {},
   "outputs": [
    {
     "name": "stdout",
     "output_type": "stream",
     "text": [
      "https://de.wikipedia.org/wiki/Russland predicted as English\n",
      "https://en.wikipedia.org/wiki/Global_warming predicted as English\n",
      "https://de.wikipedia.org/wiki/Globale_Erw%C3%A4rmung predicted as English\n",
      "https://en.wikipedia.org/wiki/Tesla,_Inc. predicted as German\n",
      "https://de.wikipedia.org/wiki/Shanghai predicted as English\n",
      "https://de.wikipedia.org/wiki/Gegend%C3%A4mmerung predicted as English\n",
      "https://en.wikipedia.org/wiki/Horizon predicted as English\n",
      "https://en.wikipedia.org/wiki/Earth predicted as English\n",
      "https://de.wikipedia.org/wiki/Tony_Hawk predicted as English\n",
      "https://de.wikipedia.org/wiki/Wahrnehmung predicted as English\n"
     ]
    }
   ],
   "source": [
    "from scipy.spatial import distance\n",
    "    \n",
    "def vector_euclidean_predict(url, vector_de, vector_en):\n",
    "    target = get_frequency_for_group([url])\n",
    "    df_target = counters_to_df(target)\n",
    "    vector_target = turn_counts_to_percentages(df_target).iloc[0]\n",
    "\n",
    "    dist_en = distance.euclidean(vector_target, vector_en)\n",
    "    dist_de = distance.euclidean(vector_target, vector_de)\n",
    "    lang = \"English\" if dist_en < dist_de else \"German\"\n",
    "    print(f\"{url} predicted as {lang}\")\n",
    "    \n",
    "for url in to_predict:\n",
    "    vector_euclidean_predict(url, vector_de, vector_en)\n",
    "    "
   ]
  },
  {
   "cell_type": "markdown",
   "metadata": {},
   "source": [
    "Garbage results, this clearly isn't right. So what went wrong?\n",
    "\n",
    "1. I think what happens here, is that the \"usual\" characters are hijacking the distance metric, so the ones that are really telling us a lot (äöü) are having less of an impact, their impact is spread out too thin. How about some feature selection?\n",
    "\n",
    "2. Using vector distance is somewhat tricky, because the distance depends on the magnitude of the two values you compare. Let me illustrate. Let's say you compare the distance of two features:"
   ]
  },
  {
   "cell_type": "code",
   "execution_count": 27,
   "metadata": {},
   "outputs": [
    {
     "data": {
      "text/plain": [
       "0.027"
      ]
     },
     "execution_count": 27,
     "metadata": {},
     "output_type": "execute_result"
    }
   ],
   "source": [
    "distance.euclidean([0.003], [0.03])"
   ]
  },
  {
   "cell_type": "code",
   "execution_count": 28,
   "metadata": {},
   "outputs": [
    {
     "data": {
      "text/plain": [
       "0.010000000000000009"
      ]
     },
     "execution_count": 28,
     "metadata": {},
     "output_type": "execute_result"
    }
   ],
   "source": [
    "distance.euclidean([0.22], [0.21])"
   ]
  },
  {
   "cell_type": "markdown",
   "metadata": {},
   "source": [
    "Here, the distance between 0.22 and 0.21 is greater than the distance between 0.003 and 0.03. So what is more interesting to us than distance, is how different the two vectors are. What about min(num1,num2) / max(num1, num2) ?"
   ]
  },
  {
   "cell_type": "code",
   "execution_count": 71,
   "metadata": {},
   "outputs": [
    {
     "data": {
      "text/plain": [
       "0.1"
      ]
     },
     "execution_count": 71,
     "metadata": {},
     "output_type": "execute_result"
    }
   ],
   "source": [
    "min([0.003, 0.03]) / max([0.003, 0.03]) "
   ]
  },
  {
   "cell_type": "code",
   "execution_count": 72,
   "metadata": {},
   "outputs": [
    {
     "data": {
      "text/plain": [
       "0.9545454545454545"
      ]
     },
     "execution_count": 72,
     "metadata": {},
     "output_type": "execute_result"
    }
   ],
   "source": [
    "min([0.22, 0.21]) / max([0.22, 0.21])"
   ]
  },
  {
   "cell_type": "markdown",
   "metadata": {},
   "source": [
    "### 2a. Feature selection"
   ]
  },
  {
   "cell_type": "markdown",
   "metadata": {},
   "source": [
    "I will compare the two dictionaries - eng and de, and see which features differ the most, and I pick only those."
   ]
  },
  {
   "cell_type": "code",
   "execution_count": 31,
   "metadata": {},
   "outputs": [],
   "source": [
    "diff = pd.DataFrame()\n",
    "diff['en'] = vector_en\n",
    "diff['de'] = vector_de"
   ]
  },
  {
   "cell_type": "code",
   "execution_count": 32,
   "metadata": {},
   "outputs": [],
   "source": [
    "diff['outliers_de'] = diff.de /  diff.en\n",
    "diff['outliers_en'] = diff.en /  diff.de"
   ]
  },
  {
   "cell_type": "code",
   "execution_count": 33,
   "metadata": {},
   "outputs": [],
   "source": [
    "diff.sort_values(by=\"outliers_de\", ascending=False, inplace=True)"
   ]
  },
  {
   "cell_type": "code",
   "execution_count": 34,
   "metadata": {},
   "outputs": [
    {
     "data": {
      "text/html": [
       "<div>\n",
       "<style scoped>\n",
       "    .dataframe tbody tr th:only-of-type {\n",
       "        vertical-align: middle;\n",
       "    }\n",
       "\n",
       "    .dataframe tbody tr th {\n",
       "        vertical-align: top;\n",
       "    }\n",
       "\n",
       "    .dataframe thead th {\n",
       "        text-align: right;\n",
       "    }\n",
       "</style>\n",
       "<table border=\"1\" class=\"dataframe\">\n",
       "  <thead>\n",
       "    <tr style=\"text-align: right;\">\n",
       "      <th></th>\n",
       "      <th>en</th>\n",
       "      <th>de</th>\n",
       "      <th>outliers_de</th>\n",
       "      <th>outliers_en</th>\n",
       "    </tr>\n",
       "  </thead>\n",
       "  <tbody>\n",
       "    <tr>\n",
       "      <th>ü</th>\n",
       "      <td>0.000101</td>\n",
       "      <td>0.004257</td>\n",
       "      <td>42.177768</td>\n",
       "      <td>0.023709</td>\n",
       "    </tr>\n",
       "    <tr>\n",
       "      <th>ä</th>\n",
       "      <td>0.000278</td>\n",
       "      <td>0.005877</td>\n",
       "      <td>21.113223</td>\n",
       "      <td>0.047364</td>\n",
       "    </tr>\n",
       "    <tr>\n",
       "      <th>ö</th>\n",
       "      <td>0.000170</td>\n",
       "      <td>0.003154</td>\n",
       "      <td>18.505868</td>\n",
       "      <td>0.054037</td>\n",
       "    </tr>\n",
       "    <tr>\n",
       "      <th>z</th>\n",
       "      <td>0.002335</td>\n",
       "      <td>0.010808</td>\n",
       "      <td>4.628969</td>\n",
       "      <td>0.216031</td>\n",
       "    </tr>\n",
       "    <tr>\n",
       "      <th>k</th>\n",
       "      <td>0.009256</td>\n",
       "      <td>0.018200</td>\n",
       "      <td>1.966247</td>\n",
       "      <td>0.508583</td>\n",
       "    </tr>\n",
       "  </tbody>\n",
       "</table>\n",
       "</div>"
      ],
      "text/plain": [
       "         en        de  outliers_de  outliers_en\n",
       "ü  0.000101  0.004257    42.177768     0.023709\n",
       "ä  0.000278  0.005877    21.113223     0.047364\n",
       "ö  0.000170  0.003154    18.505868     0.054037\n",
       "z  0.002335  0.010808     4.628969     0.216031\n",
       "k  0.009256  0.018200     1.966247     0.508583"
      ]
     },
     "execution_count": 34,
     "metadata": {},
     "output_type": "execute_result"
    }
   ],
   "source": [
    "diff.head(5)"
   ]
  },
  {
   "cell_type": "code",
   "execution_count": 35,
   "metadata": {},
   "outputs": [],
   "source": [
    "diff.sort_values(by=\"outliers_en\", ascending=False, inplace=True)"
   ]
  },
  {
   "cell_type": "code",
   "execution_count": 36,
   "metadata": {},
   "outputs": [
    {
     "data": {
      "text/html": [
       "<div>\n",
       "<style scoped>\n",
       "    .dataframe tbody tr th:only-of-type {\n",
       "        vertical-align: middle;\n",
       "    }\n",
       "\n",
       "    .dataframe tbody tr th {\n",
       "        vertical-align: top;\n",
       "    }\n",
       "\n",
       "    .dataframe thead th {\n",
       "        text-align: right;\n",
       "    }\n",
       "</style>\n",
       "<table border=\"1\" class=\"dataframe\">\n",
       "  <thead>\n",
       "    <tr style=\"text-align: right;\">\n",
       "      <th></th>\n",
       "      <th>en</th>\n",
       "      <th>de</th>\n",
       "      <th>outliers_de</th>\n",
       "      <th>outliers_en</th>\n",
       "    </tr>\n",
       "  </thead>\n",
       "  <tbody>\n",
       "    <tr>\n",
       "      <th>y</th>\n",
       "      <td>0.014043</td>\n",
       "      <td>0.002901</td>\n",
       "      <td>0.206618</td>\n",
       "      <td>4.839846</td>\n",
       "    </tr>\n",
       "    <tr>\n",
       "      <th>o</th>\n",
       "      <td>0.070371</td>\n",
       "      <td>0.032655</td>\n",
       "      <td>0.464038</td>\n",
       "      <td>2.154996</td>\n",
       "    </tr>\n",
       "    <tr>\n",
       "      <th>p</th>\n",
       "      <td>0.025515</td>\n",
       "      <td>0.014093</td>\n",
       "      <td>0.552332</td>\n",
       "      <td>1.810505</td>\n",
       "    </tr>\n",
       "    <tr>\n",
       "      <th>x</th>\n",
       "      <td>0.002202</td>\n",
       "      <td>0.001619</td>\n",
       "      <td>0.735385</td>\n",
       "      <td>1.359831</td>\n",
       "    </tr>\n",
       "    <tr>\n",
       "      <th>a</th>\n",
       "      <td>0.087504</td>\n",
       "      <td>0.064777</td>\n",
       "      <td>0.740274</td>\n",
       "      <td>1.350851</td>\n",
       "    </tr>\n",
       "  </tbody>\n",
       "</table>\n",
       "</div>"
      ],
      "text/plain": [
       "         en        de  outliers_de  outliers_en\n",
       "y  0.014043  0.002901     0.206618     4.839846\n",
       "o  0.070371  0.032655     0.464038     2.154996\n",
       "p  0.025515  0.014093     0.552332     1.810505\n",
       "x  0.002202  0.001619     0.735385     1.359831\n",
       "a  0.087504  0.064777     0.740274     1.350851"
      ]
     },
     "execution_count": 36,
     "metadata": {},
     "output_type": "execute_result"
    }
   ],
   "source": [
    "diff.head(5)"
   ]
  },
  {
   "cell_type": "markdown",
   "metadata": {},
   "source": [
    "### Take 2: With feature selection"
   ]
  },
  {
   "cell_type": "code",
   "execution_count": 37,
   "metadata": {},
   "outputs": [],
   "source": [
    "df_en = counters_to_df(eng_eu_counters)\n",
    "df_de = counters_to_df(de_eu_counters)\n",
    "\n",
    "vector_en = np.sum(df_en, axis=0) / sum(np.sum(df_en, axis=0))\n",
    "vector_de = np.sum(df_de, axis=0) / sum(np.sum(df_de, axis=0))"
   ]
  },
  {
   "cell_type": "code",
   "execution_count": 38,
   "metadata": {},
   "outputs": [],
   "source": [
    "vector_en = vector_en[vector_en.index.isin(['ä', 'ö', 'ü', 'z', 'y'])]\n",
    "vector_de = vector_de[vector_de.index.isin(['ä', 'ö', 'ü', 'z', 'y'])]"
   ]
  },
  {
   "cell_type": "code",
   "execution_count": 93,
   "metadata": {},
   "outputs": [
    {
     "name": "stdout",
     "output_type": "stream",
     "text": [
      "https://de.wikipedia.org/wiki/Russland predicted as German by a margin of 1.0404\n",
      "https://en.wikipedia.org/wiki/Global_warming predicted as English by a margin of 0.3815\n",
      "https://de.wikipedia.org/wiki/Globale_Erw%C3%A4rmung predicted as German by a margin of 0.8846\n",
      "https://en.wikipedia.org/wiki/Tesla,_Inc. predicted as English by a margin of 0.6846\n",
      "https://de.wikipedia.org/wiki/Shanghai predicted as German by a margin of 1.6696\n",
      "https://de.wikipedia.org/wiki/Gegend%C3%A4mmerung predicted as German by a margin of 1.0066\n",
      "https://en.wikipedia.org/wiki/Horizon predicted as English by a margin of 0.1035\n",
      "https://en.wikipedia.org/wiki/Earth predicted as English by a margin of 1.3739\n",
      "https://de.wikipedia.org/wiki/Tony_Hawk predicted as German by a margin of 0.8386\n",
      "https://de.wikipedia.org/wiki/Wahrnehmung predicted as German by a margin of 0.3698\n"
     ]
    }
   ],
   "source": [
    "def vector_similarity_predict(url, vector_de, vector_en):\n",
    "    target = get_frequency_for_group([url])\n",
    "    df_target = counters_to_df(target)\n",
    "    vector_target = turn_counts_to_percentages(df_target).iloc[0]\n",
    "    vector_target = vector_target[vector_target.index.isin(['ä', 'ö', 'ü', 'z', 'y'])]\n",
    "    assert all(vector_target.index == vector_en.index)\n",
    "    \n",
    "    juxtapose_en = list(zip(vector_target.values, vector_en.values))\n",
    "    juxtapose_de = list(zip(vector_target.values, vector_de.values))\n",
    "    \n",
    "    similarity_de = sum([ min(tup) / max(tup) for tup in juxtapose_de])\n",
    "    similarity_en = sum([ min(tup) / max(tup) for tup in juxtapose_en])\n",
    "    \n",
    "    confidence = round(abs(similarity_de - similarity_en), 4)\n",
    "    \n",
    "    lang = \"English\" if similarity_en > similarity_de else \"German\"\n",
    "    print(f\"{url} predicted as {lang} by a margin of {confidence}\")\n",
    "    \n",
    "for url in to_predict:\n",
    "    vector_similarity_predict(url, vector_de, vector_en)"
   ]
  },
  {
   "cell_type": "markdown",
   "metadata": {},
   "source": [
    "This looks better - it got all of them right. But again, testing on a much larger scale would need to take place to really see how good this model is."
   ]
  },
  {
   "cell_type": "markdown",
   "metadata": {},
   "source": [
    "To summarize: <br>\n",
    "What helped, was feature selection, and using a similarity metric rather than the distance."
   ]
  },
  {
   "cell_type": "markdown",
   "metadata": {},
   "source": [
    "The confidence level is the difference between the similarities, as output above."
   ]
  },
  {
   "cell_type": "markdown",
   "metadata": {},
   "source": [
    "### In the ML part, why did I use DecisionTree model and not others ?"
   ]
  },
  {
   "cell_type": "markdown",
   "metadata": {},
   "source": [
    "### Knn\n",
    "I tried it initially actually. It compares vector distance between the target vector, and n other neighboring vectors. The problem with this model is that it treates each element of the vector with the same weight. Yes, you can assign weights to NEIGBORS depending how close they are, but not to different features (elements of the vector). Hence, the values of äöü are being watered down by values of other characters, which don't differ so much between languages."
   ]
  },
  {
   "cell_type": "markdown",
   "metadata": {},
   "source": [
    "### RandomForest"
   ]
  },
  {
   "cell_type": "markdown",
   "metadata": {},
   "source": [
    "It's normally my go-to algorithm, but the problem is the random element in it. With every tree in a random forest, a random set of features, and random set of rows is selected. Normally, this makes the model more robust. But in our case, we had such strong features (öäü), that in the case of trees where those columns were not selected, the individual tree provided garbage predictions. And the final decision is a majority vote of individual trees, which was garbage as well. Garbage in, garbage out."
   ]
  },
  {
   "cell_type": "markdown",
   "metadata": {},
   "source": [
    "### AdaBoost\n",
    "\n",
    "Is also a great one, which applies penalty for wrongly made predictions, but as it is based of random forest model, the same issues as above will hit us."
   ]
  }
 ],
 "metadata": {
  "kernelspec": {
   "display_name": "Python 3",
   "language": "python",
   "name": "python3"
  },
  "language_info": {
   "codemirror_mode": {
    "name": "ipython",
    "version": 3
   },
   "file_extension": ".py",
   "mimetype": "text/x-python",
   "name": "python",
   "nbconvert_exporter": "python",
   "pygments_lexer": "ipython3",
   "version": "3.6.9"
  }
 },
 "nbformat": 4,
 "nbformat_minor": 4
}
